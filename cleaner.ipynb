{
 "cells": [
  {
   "cell_type": "code",
   "execution_count": 103,
   "metadata": {},
   "outputs": [],
   "source": [
    "import pandas as pd\n",
    "import re\n",
    "import numpy as np\n",
    "from datetime import datetime"
   ]
  },
  {
   "cell_type": "code",
   "execution_count": 98,
   "metadata": {},
   "outputs": [
    {
     "data": {
      "text/plain": [
       "Index(['search-city', 'search-key', 'company', 'phno', 'actual-address',\n",
       "       'actual-tags'],\n",
       "      dtype='object')"
      ]
     },
     "execution_count": 98,
     "metadata": {},
     "output_type": "execute_result"
    }
   ],
   "source": [
    "dff = pd.read_csv(\"phbooktask2.csv\",index_col = 0,names = ['search-city', 'search-key', 'company', 'phno', 'actual-address',\n",
    "       'actual-tags'])\n",
    "dff.columns"
   ]
  },
  {
   "cell_type": "code",
   "execution_count": 59,
   "metadata": {},
   "outputs": [],
   "source": [
    "# df = pd.read_csv(\"phbooktask2.csv\",index_col = 0,names = ['search-city', 'search-key', 'company', 'phno', 'actual-address',\n",
    "#        'actual-tags'])"
   ]
  },
  {
   "cell_type": "code",
   "execution_count": 60,
   "metadata": {},
   "outputs": [
    {
     "name": "stdout",
     "output_type": "stream",
     "text": [
      "(6119, 6)\n"
     ]
    },
    {
     "data": {
      "text/html": [
       "<div>\n",
       "<style scoped>\n",
       "    .dataframe tbody tr th:only-of-type {\n",
       "        vertical-align: middle;\n",
       "    }\n",
       "\n",
       "    .dataframe tbody tr th {\n",
       "        vertical-align: top;\n",
       "    }\n",
       "\n",
       "    .dataframe thead th {\n",
       "        text-align: right;\n",
       "    }\n",
       "</style>\n",
       "<table border=\"1\" class=\"dataframe\">\n",
       "  <thead>\n",
       "    <tr style=\"text-align: right;\">\n",
       "      <th></th>\n",
       "      <th>search-city</th>\n",
       "      <th>search-key</th>\n",
       "      <th>company</th>\n",
       "      <th>phno</th>\n",
       "      <th>actual-address</th>\n",
       "      <th>actual-tags</th>\n",
       "    </tr>\n",
       "  </thead>\n",
       "  <tbody>\n",
       "    <tr>\n",
       "      <th>0</th>\n",
       "      <td>Mumbai</td>\n",
       "      <td>Readymade-Garment-Manufacturers</td>\n",
       "      <td>King Blazer Creation in Ghatkopar West, Mumbai</td>\n",
       "      <td>+(91)-9152340556</td>\n",
       "      <td>Akbar Lala Compund, Azad Nagar, Ghatkopar West...</td>\n",
       "      <td>Readymade Garment Manufacturers, Garments Manu...</td>\n",
       "    </tr>\n",
       "    <tr>\n",
       "      <th>1</th>\n",
       "      <td>Mumbai</td>\n",
       "      <td>Readymade-Garment-Manufacturers</td>\n",
       "      <td>Embi Creations in Dombivli East, Mumbai</td>\n",
       "      <td>+(91)-9324790610</td>\n",
       "      <td>Gala No.02, Krishna Recidency, Sonar Pada, Kal...</td>\n",
       "      <td>T Shirt Manufacturers, Sports T Shirt Manufact...</td>\n",
       "    </tr>\n",
       "    <tr>\n",
       "      <th>2</th>\n",
       "      <td>Mumbai</td>\n",
       "      <td>Readymade-Garment-Manufacturers</td>\n",
       "      <td>SRK Garments in Malad West, Mumbai</td>\n",
       "      <td>+(91)-9152122477</td>\n",
       "      <td>Plot No 2, Room No-52,Gate No-6,, New Collecto...</td>\n",
       "      <td>Readymade Garment Manufacturers, Uniform Manuf...</td>\n",
       "    </tr>\n",
       "    <tr>\n",
       "      <th>3</th>\n",
       "      <td>Mumbai</td>\n",
       "      <td>Readymade-Garment-Manufacturers</td>\n",
       "      <td>Eden Rose in Malad West, Mumbai</td>\n",
       "      <td>+(91)-9152430823</td>\n",
       "      <td>Shop 4, Patel Shopping Centre, Sainath Road, M...</td>\n",
       "      <td>Readymade Garment Retailers, T Shirt Manufactu...</td>\n",
       "    </tr>\n",
       "    <tr>\n",
       "      <th>4</th>\n",
       "      <td>Mumbai</td>\n",
       "      <td>Readymade-Garment-Manufacturers</td>\n",
       "      <td>A S Garments in Bandra West, Mumbai</td>\n",
       "      <td>+(91)-9152888624</td>\n",
       "      <td>Teenagers Choice, Shop No 3, 35 TPS Road, Link...</td>\n",
       "      <td>Readymade Garment Wholesalers, Readymade Garme...</td>\n",
       "    </tr>\n",
       "  </tbody>\n",
       "</table>\n",
       "</div>"
      ],
      "text/plain": [
       "  search-city                       search-key  \\\n",
       "0      Mumbai  Readymade-Garment-Manufacturers   \n",
       "1      Mumbai  Readymade-Garment-Manufacturers   \n",
       "2      Mumbai  Readymade-Garment-Manufacturers   \n",
       "3      Mumbai  Readymade-Garment-Manufacturers   \n",
       "4      Mumbai  Readymade-Garment-Manufacturers   \n",
       "\n",
       "                                          company              phno  \\\n",
       "0  King Blazer Creation in Ghatkopar West, Mumbai  +(91)-9152340556   \n",
       "1         Embi Creations in Dombivli East, Mumbai  +(91)-9324790610   \n",
       "2              SRK Garments in Malad West, Mumbai  +(91)-9152122477   \n",
       "3                 Eden Rose in Malad West, Mumbai  +(91)-9152430823   \n",
       "4             A S Garments in Bandra West, Mumbai  +(91)-9152888624   \n",
       "\n",
       "                                      actual-address  \\\n",
       "0  Akbar Lala Compund, Azad Nagar, Ghatkopar West...   \n",
       "1  Gala No.02, Krishna Recidency, Sonar Pada, Kal...   \n",
       "2  Plot No 2, Room No-52,Gate No-6,, New Collecto...   \n",
       "3  Shop 4, Patel Shopping Centre, Sainath Road, M...   \n",
       "4  Teenagers Choice, Shop No 3, 35 TPS Road, Link...   \n",
       "\n",
       "                                         actual-tags  \n",
       "0  Readymade Garment Manufacturers, Garments Manu...  \n",
       "1  T Shirt Manufacturers, Sports T Shirt Manufact...  \n",
       "2  Readymade Garment Manufacturers, Uniform Manuf...  \n",
       "3  Readymade Garment Retailers, T Shirt Manufactu...  \n",
       "4  Readymade Garment Wholesalers, Readymade Garme...  "
      ]
     },
     "execution_count": 60,
     "metadata": {},
     "output_type": "execute_result"
    }
   ],
   "source": [
    "# print(df.shape)\n",
    "# df.head()"
   ]
  },
  {
   "cell_type": "code",
   "execution_count": 101,
   "metadata": {},
   "outputs": [],
   "source": [
    "def clean_phno(phno):\n",
    "    temp = str(phno)\n",
    "    if temp.startswith('+(91)'):\n",
    "        temp1 = temp.split('-')\n",
    "        phno = ''.join(temp1[1:])\n",
    "    else:\n",
    "        pass\n",
    "    try:\n",
    "        return phno[-10:]\n",
    "    except:\n",
    "        return np.nan"
   ]
  },
  {
   "cell_type": "code",
   "execution_count": 122,
   "metadata": {},
   "outputs": [],
   "source": [
    "def clean(tag,csv_file,cols):\n",
    "    df = pd.read_csv(csv_file,index_col = 0,names = ['search-city', 'search-key',\n",
    "                                                         'company',\n",
    "                                                         'phno',\n",
    "                                                         'actual-address',\n",
    "                                                         'actual-tags'])\n",
    "    print(\"csv_file shape before cleaning\")\n",
    "    print(df.shape)\n",
    "#     print(df.head(10))\n",
    "    print(\"cleaning phone number-------------------->\")\n",
    "    df['clean_phno'] = df['phno'].apply(clean_phno)\n",
    "    print(\"extracting tags-------------------------->\")\n",
    "    df = df[df['actual-tags'].str.contains(tag,flags=re.IGNORECASE,regex = True)]\n",
    "    print(df.shape)\n",
    "    print(\"removing duplicates----------------------->\")\n",
    "    df.drop_duplicates(subset = [\"clean_phno\"], inplace = True)\n",
    "    print(\"csv_file shape after cleaning\")\n",
    "    print(df.shape)\n",
    "#     print(df.head(10))\n",
    "    print(\"Done\")\n",
    "    #next line is to extract only the keyword we want eg., manufactures\n",
    "#     df['clean_tags'] = df[\"actual-tags\"].str.extract(pat = '('+tag+')')\n",
    "    return df[cols]"
   ]
  },
  {
   "cell_type": "code",
   "execution_count": 123,
   "metadata": {},
   "outputs": [
    {
     "name": "stdout",
     "output_type": "stream",
     "text": [
      "csv_file shape before cleaning\n",
      "(12512, 6)\n",
      "cleaning phone number-------------------->\n",
      "extracting tags-------------------------->\n",
      "(10128, 7)\n",
      "removing duplicates----------------------->\n",
      "csv_file shape after cleaning\n",
      "(1764, 7)\n",
      "Done\n"
     ]
    }
   ],
   "source": [
    "if __name__ == \"__main__\":\n",
    "    clean('manufacture','phbooktask2.csv',['company','clean_phno']).to_csv(\"cleanedphbbok_\"+datetime.now()\n",
    "                                                                           .strftime(\"%m-%d-%Y_%H-%M-%S\")+\".csv\")"
   ]
  },
  {
   "cell_type": "code",
   "execution_count": 119,
   "metadata": {},
   "outputs": [
    {
     "name": "stdout",
     "output_type": "stream",
     "text": [
      "csv_file shape before cleaning\n",
      "(12512, 6)\n",
      "cleaning phone number-------------------->\n",
      "extracting tags-------------------------->\n",
      "(10128, 7)\n",
      "removing duplicates----------------------->\n",
      "csv_file shape after cleaning\n",
      "(3919, 7)\n",
      "Done\n"
     ]
    }
   ],
   "source": [
    "dff = clean('manufacture','phbooktask2.csv',['company','clean_phno'])"
   ]
  },
  {
   "cell_type": "code",
   "execution_count": 121,
   "metadata": {},
   "outputs": [
    {
     "data": {
      "text/html": [
       "<div>\n",
       "<style scoped>\n",
       "    .dataframe tbody tr th:only-of-type {\n",
       "        vertical-align: middle;\n",
       "    }\n",
       "\n",
       "    .dataframe tbody tr th {\n",
       "        vertical-align: top;\n",
       "    }\n",
       "\n",
       "    .dataframe thead th {\n",
       "        text-align: right;\n",
       "    }\n",
       "</style>\n",
       "<table border=\"1\" class=\"dataframe\">\n",
       "  <thead>\n",
       "    <tr style=\"text-align: right;\">\n",
       "      <th></th>\n",
       "      <th>company</th>\n",
       "      <th>clean_phno</th>\n",
       "    </tr>\n",
       "  </thead>\n",
       "  <tbody>\n",
       "    <tr>\n",
       "      <th>0</th>\n",
       "      <td>King Blazer Creation in Ghatkopar West, Mumbai</td>\n",
       "      <td>9152340556</td>\n",
       "    </tr>\n",
       "    <tr>\n",
       "      <th>77</th>\n",
       "      <td>King Blazer Creation in Ghatkopar West, Mumbai</td>\n",
       "      <td>9152340556</td>\n",
       "    </tr>\n",
       "    <tr>\n",
       "      <th>74</th>\n",
       "      <td>King Blazer Creation in Ghatkopar West, Mumbai</td>\n",
       "      <td>9152340556</td>\n",
       "    </tr>\n",
       "    <tr>\n",
       "      <th>78</th>\n",
       "      <td>King Blazer Creation in Ghatkopar West, Mumbai</td>\n",
       "      <td>9152340556</td>\n",
       "    </tr>\n",
       "    <tr>\n",
       "      <th>64</th>\n",
       "      <td>King Blazer Creation in Ghatkopar West, Mumbai</td>\n",
       "      <td>9152340556</td>\n",
       "    </tr>\n",
       "    <tr>\n",
       "      <th>59</th>\n",
       "      <td>King Blazer Creation in Ghatkopar West, Mumbai</td>\n",
       "      <td>9152340556</td>\n",
       "    </tr>\n",
       "    <tr>\n",
       "      <th>60</th>\n",
       "      <td>King Blazer Creation in Ghatkopar West, Mumbai</td>\n",
       "      <td>9152340556</td>\n",
       "    </tr>\n",
       "    <tr>\n",
       "      <th>38</th>\n",
       "      <td>King Blazer Creation in Ghatkopar West, Mumbai</td>\n",
       "      <td>9152340556</td>\n",
       "    </tr>\n",
       "    <tr>\n",
       "      <th>46</th>\n",
       "      <td>King Blazer Creation in Ghatkopar West, Mumbai</td>\n",
       "      <td>9152340556</td>\n",
       "    </tr>\n",
       "    <tr>\n",
       "      <th>36</th>\n",
       "      <td>King Blazer Creation in Ghatkopar West, Mumbai</td>\n",
       "      <td>9152340556</td>\n",
       "    </tr>\n",
       "    <tr>\n",
       "      <th>46</th>\n",
       "      <td>King Blazer Creation in Ghatkopar West, Mumbai</td>\n",
       "      <td>9152340556</td>\n",
       "    </tr>\n",
       "    <tr>\n",
       "      <th>46</th>\n",
       "      <td>King Blazer Creation in Ghatkopar West, Mumbai</td>\n",
       "      <td>9152340556</td>\n",
       "    </tr>\n",
       "    <tr>\n",
       "      <th>43</th>\n",
       "      <td>King Blazer Creation in Ghatkopar West, Mumbai</td>\n",
       "      <td>9152340556</td>\n",
       "    </tr>\n",
       "    <tr>\n",
       "      <th>52</th>\n",
       "      <td>King Blazer Creation in Ghatkopar West, Mumbai</td>\n",
       "      <td>9152340556</td>\n",
       "    </tr>\n",
       "    <tr>\n",
       "      <th>50</th>\n",
       "      <td>King Blazer Creation in Ghatkopar West, Mumbai</td>\n",
       "      <td>9152340556</td>\n",
       "    </tr>\n",
       "  </tbody>\n",
       "</table>\n",
       "</div>"
      ],
      "text/plain": [
       "                                           company  clean_phno\n",
       "0   King Blazer Creation in Ghatkopar West, Mumbai  9152340556\n",
       "77  King Blazer Creation in Ghatkopar West, Mumbai  9152340556\n",
       "74  King Blazer Creation in Ghatkopar West, Mumbai  9152340556\n",
       "78  King Blazer Creation in Ghatkopar West, Mumbai  9152340556\n",
       "64  King Blazer Creation in Ghatkopar West, Mumbai  9152340556\n",
       "59  King Blazer Creation in Ghatkopar West, Mumbai  9152340556\n",
       "60  King Blazer Creation in Ghatkopar West, Mumbai  9152340556\n",
       "38  King Blazer Creation in Ghatkopar West, Mumbai  9152340556\n",
       "46  King Blazer Creation in Ghatkopar West, Mumbai  9152340556\n",
       "36  King Blazer Creation in Ghatkopar West, Mumbai  9152340556\n",
       "46  King Blazer Creation in Ghatkopar West, Mumbai  9152340556\n",
       "46  King Blazer Creation in Ghatkopar West, Mumbai  9152340556\n",
       "43  King Blazer Creation in Ghatkopar West, Mumbai  9152340556\n",
       "52  King Blazer Creation in Ghatkopar West, Mumbai  9152340556\n",
       "50  King Blazer Creation in Ghatkopar West, Mumbai  9152340556"
      ]
     },
     "execution_count": 121,
     "metadata": {},
     "output_type": "execute_result"
    }
   ],
   "source": [
    "dff[dff['clean_phno'] == '9152340556']"
   ]
  },
  {
   "cell_type": "code",
   "execution_count": null,
   "metadata": {},
   "outputs": [],
   "source": []
  }
 ],
 "metadata": {
  "kernelspec": {
   "display_name": "Python 3",
   "language": "python",
   "name": "python3"
  },
  "language_info": {
   "codemirror_mode": {
    "name": "ipython",
    "version": 3
   },
   "file_extension": ".py",
   "mimetype": "text/x-python",
   "name": "python",
   "nbconvert_exporter": "python",
   "pygments_lexer": "ipython3",
   "version": "3.7.4"
  }
 },
 "nbformat": 4,
 "nbformat_minor": 4
}
