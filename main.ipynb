{
 "cells": [
  {
   "cell_type": "code",
   "execution_count": 39,
   "metadata": {},
   "outputs": [],
   "source": [
    "from selenium import webdriver\n",
    "import re\n",
    "from pandas import DataFrame\n",
    "import pickle\n",
    "from bs4 import BeautifulSoup\n",
    "from selenium.webdriver.common.keys import Keys\n",
    "import time\n",
    "from selenium.webdriver.chrome.options import Options\n",
    "from selenium.webdriver import DesiredCapabilities\n",
    "from selenium.webdriver.common.by import By\n",
    "from selenium.webdriver.support.ui import WebDriverWait\n",
    "from selenium.webdriver.support import expected_conditions as ec\n",
    "\n",
    "from IPython.display import clear_output\n"
   ]
  },
  {
   "cell_type": "code",
   "execution_count": 23,
   "metadata": {},
   "outputs": [],
   "source": [
    "path = {'chrome':\"C:/Users/preetham/Downloads/drivers/chromedriver.exe\"\n",
    "        ,'opera':\"C:/Users/preetham/Downloads/drivers/operadriver.exe\"}\n",
    "url = \"https://www.justdial.com/Mysore/Textile-Manufacturers/\"\n",
    "xpaths = {}\n",
    "options = Options()\n",
    "# options.add_argument(\"--headless\") # Runs Chrome in headless mode.\n",
    "options.add_argument('--no-sandbox') # Bypass OS security model\n",
    "options.add_argument('--disable-gpu')  # applicable to windows os only\n",
    "# options.add_argument('start-maximized') # \n",
    "options.add_argument('disable-infobars')\n",
    "options.add_argument(\"--disable-extensions\")\n",
    "# capabilities = DesiredCapabilities.CHROME.copy()\n",
    "# capabilities['acceptSslCerts'] = True \n",
    "# capabilities['acceptInsecureCerts'] = True"
   ]
  },
  {
   "cell_type": "code",
   "execution_count": 3,
   "metadata": {},
   "outputs": [],
   "source": [
    "KEYWORD = 'Readymade Garment Manufacturers'\n",
    "FILENAME = 'phbooktask2'"
   ]
  },
  {
   "cell_type": "code",
   "execution_count": null,
   "metadata": {},
   "outputs": [],
   "source": [
    "# def scroll_to_bottom(driver):\n",
    "    \n",
    "#     SCROLL_PAUSE_TIME = 1\n",
    "#     # Get scroll height\n",
    "#     last_height = driver.execute_script(\"return document.body.scrollHeight\")\n",
    " \n",
    "#     while True:\n",
    "#         # Scroll down to bottom\n",
    "#         driver.execute_script(\"window.scrollTo(0, document.body.scrollHeight);\")\n",
    " \n",
    "#         # Wait to load page\n",
    "#         time.sleep(SCROLL_PAUSE_TIME)\n",
    " \n",
    "#         # Calculate new scroll height and compare with last scroll height\n",
    "#         new_height = driver.execute_script(\"return document.body.scrollHeight\")\n",
    "#         if new_height == last_height:\n",
    "#             break\n",
    "#         last_height = new_height"
   ]
  },
  {
   "cell_type": "code",
   "execution_count": null,
   "metadata": {},
   "outputs": [],
   "source": [
    "driver.get(url)"
   ]
  },
  {
   "cell_type": "code",
   "execution_count": 87,
   "metadata": {},
   "outputs": [],
   "source": [
    "body = driver.find_element_by_css_selector('body')"
   ]
  },
  {
   "cell_type": "code",
   "execution_count": 88,
   "metadata": {},
   "outputs": [],
   "source": [
    "body.send_keys(Keys.END)"
   ]
  },
  {
   "cell_type": "code",
   "execution_count": 89,
   "metadata": {},
   "outputs": [],
   "source": [
    "con_main = driver.find_element_by_xpath('//*[@id=\"tab-5\"]/ul')"
   ]
  },
  {
   "cell_type": "code",
   "execution_count": 90,
   "metadata": {},
   "outputs": [],
   "source": [
    "soup = BeautifulSoup(con_main.get_attribute(\"innerHTML\"),'lxml')\n",
    "soup = soup.findAll('li')"
   ]
  },
  {
   "cell_type": "code",
   "execution_count": 7,
   "metadata": {},
   "outputs": [],
   "source": [
    "import json\n",
    "\n",
    "with open('cities.json') as f:\n",
    "    cities = json.load(f)"
   ]
  },
  {
   "cell_type": "code",
   "execution_count": 8,
   "metadata": {},
   "outputs": [
    {
     "name": "stdout",
     "output_type": "stream",
     "text": [
      "{'id': '104', 'name': 'Mysore', 'state': 'Karnataka'}\n"
     ]
    }
   ],
   "source": [
    "for each in cities:\n",
    "    if each[\"name\"].lower() == \"mysore\":\n",
    "        print(each)\n",
    "        break"
   ]
  },
  {
   "cell_type": "code",
   "execution_count": 34,
   "metadata": {},
   "outputs": [
    {
     "name": "stdout",
     "output_type": "stream",
     "text": [
      "city: bengaluru\n"
     ]
    }
   ],
   "source": [
    "url = \"https://www.justdial.com/\"\n",
    "city = input(\"city: \")\n",
    "# keyword = input(\"keyword: \")\n",
    "# keyword = '-'.join(keyword.split())\n",
    "keyword = \"textile-manufacturer\"\n",
    "url = url+city+'/'+keyword+'/'"
   ]
  },
  {
   "cell_type": "code",
   "execution_count": 95,
   "metadata": {},
   "outputs": [],
   "source": [
    "total_count = 2842"
   ]
  },
  {
   "cell_type": "code",
   "execution_count": 44,
   "metadata": {
    "scrolled": false
   },
   "outputs": [],
   "source": [
    "\n",
    "def scraper(url,city,keyword,total_count,depth_limit = 20):\n",
    "#     flag = 0\n",
    "    keyword = '-'.join(keyword.split())\n",
    "#     if flag == 0:\n",
    "#         url = url+city+'/'+keyword+'/'+\"nct-10477448/page-23\"\n",
    "#         flag = 1\n",
    "#     else:\n",
    "#         url = url+city+'/'+keyword+'/'\n",
    "    url = url+city+'/'+keyword+'/'\n",
    "\n",
    "    marker = 0\n",
    "    tt = pickle.load(open('num-mapper.pkl','rb'))\n",
    "    while True:\n",
    "        phbook = {}\n",
    "        adrbook = {}\n",
    "        tagbook = {} \n",
    "        if url!=None:\n",
    "            print(url)\n",
    "            if marker%2 == 0:\n",
    "                driver = webdriver.Chrome(executable_path = path['chrome'],options = options)\n",
    "            else:\n",
    "                driver = webdriver.Opera(executable_path = path['opera'],options = options)\n",
    "            driver.maximize_window()\n",
    "            driver.implicitly_wait(3)\n",
    "            \n",
    "            try:\n",
    "                driver.get(url)\n",
    "                body = driver.find_element_by_css_selector('body')\n",
    "                time.sleep(1)\n",
    "                body.send_keys(Keys.END)\n",
    "            #     scroll_to_bottom(driver)\n",
    "                time.sleep(10)\n",
    "        #         con_main = driver.find_element_by_xpath('//*[@id=\"tab-5\"]/ul')\n",
    "                soup = BeautifulSoup(body.get_attribute(\"innerHTML\"),'lxml')\n",
    "                soup = soup.findAll('li')\n",
    "                for i in range(len(soup)):\n",
    "                    try:\n",
    "                        title = soup[i].h2.a['title']\n",
    "                        address = soup[i].find(\"span\",{\"class\":\"mrehover dn\"}).text\n",
    "                        address = ' '.join(address.strip().split('\\n'))\n",
    "                        tags = soup[i].find(\"span\",{\"class\":\"margin0 addrinftxt\"}).text\n",
    "                        tags = ' '.join(tags.strip().split())\n",
    "                        phno = ''\n",
    "                        for each in soup[i].find(\"p\",{\"class\":\"contact-info\"}).findAll('span')[1:]:\n",
    "                            phno+=str(tt[re.findall('(icon-[\\w]{2})',str(each))[0]])\n",
    "        #                 try: \n",
    "        #                     phbook[title] += phno+','\n",
    "        #                 except:\n",
    "        #                     phbook[title] = ''\n",
    "        #                     phbook[title] += phno+','\n",
    "                        phbook[title] = phno\n",
    "                        adrbook[title] = address\n",
    "                        tagbook[title] = tags\n",
    "                        total_count+=1\n",
    "\n",
    "                    except:\n",
    "                        pass\n",
    "                nxt = driver.find_element_by_xpath('//a[@rel=\"next\"]')\n",
    "                url = nxt.get_attribute('href')\n",
    "                #there is no much data in later pages \n",
    "                marker+=1\n",
    "                if marker == depth_limit:\n",
    "                    url = None\n",
    "            except:\n",
    "                driver.quit()\n",
    "                print(\"ERROR: Check Connection\")\n",
    "                continue    \n",
    "            \n",
    "            driver.quit()\n",
    "            df = DataFrame({'search-city':[city]*len(phbook.keys())\n",
    "                            ,'search-key':[keyword]*len(phbook.keys())\n",
    "                            ,'company':list(phbook.keys())\n",
    "                            ,'phno':list(phbook.values())\n",
    "                            ,\"actual-address\":list(adrbook.values())\n",
    "                            ,\"actual-tags\":list(tagbook.values())})\n",
    "            df.to_csv(FILENAME+'.csv',mode = 'a',header=False)\n",
    "            print(\"==================running========================\")\n",
    "            print(\"total Count: \",total_count)\n",
    "        else:\n",
    "            break\n",
    "    return total_count\n",
    "    \n",
    "    "
   ]
  },
  {
   "cell_type": "code",
   "execution_count": 26,
   "metadata": {},
   "outputs": [],
   "source": [
    "# total_count = 0\n",
    "# done = []"
   ]
  },
  {
   "cell_type": "code",
   "execution_count": 43,
   "metadata": {},
   "outputs": [],
   "source": [
    "done.append(\"Indore\")"
   ]
  },
  {
   "cell_type": "code",
   "execution_count": 42,
   "metadata": {
    "scrolled": false
   },
   "outputs": [
    {
     "name": "stdout",
     "output_type": "stream",
     "text": [
      "Indore--begining\n",
      "https://www.justdial.com/Indore/Readymade-Garment-Manufacturers/\n",
      "==================running========================\n",
      "total Count:  10578\n",
      "https://www.justdial.com/Indore/Readymade-Garment-Manufacturers/nct-10401890/page-2\n",
      "==================running========================\n",
      "total Count:  10638\n",
      "https://www.justdial.com/Indore/Readymade-Garment-Manufacturers/nct-10401890/page-3\n",
      "==================running========================\n",
      "total Count:  10718\n",
      "https://www.justdial.com/Indore/Readymade-Garment-Manufacturers/nct-10401890/page-4\n",
      "==================running========================\n",
      "total Count:  10788\n",
      "https://www.justdial.com/Indore/Readymade-Garment-Manufacturers/nct-10401890/page-5\n",
      "==================running========================\n",
      "total Count:  10848\n",
      "https://www.justdial.com/Indore/Readymade-Garment-Manufacturers/nct-10401890/page-6\n",
      "==================running========================\n",
      "total Count:  10898\n",
      "https://www.justdial.com/Indore/Readymade-Garment-Manufacturers/nct-10401890/page-7\n",
      "==================running========================\n",
      "total Count:  10938\n",
      "https://www.justdial.com/Indore/Readymade-Garment-Manufacturers/nct-10401890/page-8\n",
      "==================running========================\n",
      "total Count:  10968\n",
      "https://www.justdial.com/Indore/Readymade-Garment-Manufacturers/nct-10401890/page-9\n",
      "==================running========================\n",
      "total Count:  10978\n",
      "https://www.justdial.com/Indore/Readymade-Garment-Manufacturers/nct-10401890/page-10\n",
      "ERROR: Check Connection\n",
      "https://www.justdial.com/Indore/Readymade-Garment-Manufacturers/nct-10401890/page-10\n",
      "ERROR: Check Connection\n",
      "https://www.justdial.com/Indore/Readymade-Garment-Manufacturers/nct-10401890/page-10\n",
      "ERROR: Check Connection\n",
      "https://www.justdial.com/Indore/Readymade-Garment-Manufacturers/nct-10401890/page-10\n",
      "ERROR: Check Connection\n",
      "https://www.justdial.com/Indore/Readymade-Garment-Manufacturers/nct-10401890/page-10\n",
      "ERROR: Check Connection\n",
      "https://www.justdial.com/Indore/Readymade-Garment-Manufacturers/nct-10401890/page-10\n",
      "ERROR: Check Connection\n",
      "https://www.justdial.com/Indore/Readymade-Garment-Manufacturers/nct-10401890/page-10\n",
      "ERROR: Check Connection\n",
      "https://www.justdial.com/Indore/Readymade-Garment-Manufacturers/nct-10401890/page-10\n",
      "ERROR: Check Connection\n",
      "https://www.justdial.com/Indore/Readymade-Garment-Manufacturers/nct-10401890/page-10\n",
      "ERROR: Check Connection\n",
      "https://www.justdial.com/Indore/Readymade-Garment-Manufacturers/nct-10401890/page-10\n",
      "ERROR: Check Connection\n",
      "https://www.justdial.com/Indore/Readymade-Garment-Manufacturers/nct-10401890/page-10\n",
      "ERROR: Check Connection\n",
      "https://www.justdial.com/Indore/Readymade-Garment-Manufacturers/nct-10401890/page-10\n",
      "ERROR: Check Connection\n",
      "https://www.justdial.com/Indore/Readymade-Garment-Manufacturers/nct-10401890/page-10\n",
      "ERROR: Check Connection\n",
      "https://www.justdial.com/Indore/Readymade-Garment-Manufacturers/nct-10401890/page-10\n",
      "ERROR: Check Connection\n",
      "https://www.justdial.com/Indore/Readymade-Garment-Manufacturers/nct-10401890/page-10\n",
      "ERROR: Check Connection\n",
      "https://www.justdial.com/Indore/Readymade-Garment-Manufacturers/nct-10401890/page-10\n",
      "ERROR: Check Connection\n",
      "https://www.justdial.com/Indore/Readymade-Garment-Manufacturers/nct-10401890/page-10\n",
      "ERROR: Check Connection\n",
      "https://www.justdial.com/Indore/Readymade-Garment-Manufacturers/nct-10401890/page-10\n",
      "ERROR: Check Connection\n",
      "https://www.justdial.com/Indore/Readymade-Garment-Manufacturers/nct-10401890/page-10\n",
      "ERROR: Check Connection\n",
      "https://www.justdial.com/Indore/Readymade-Garment-Manufacturers/nct-10401890/page-10\n",
      "ERROR: Check Connection\n",
      "https://www.justdial.com/Indore/Readymade-Garment-Manufacturers/nct-10401890/page-10\n",
      "ERROR: Check Connection\n",
      "https://www.justdial.com/Indore/Readymade-Garment-Manufacturers/nct-10401890/page-10\n",
      "ERROR: Check Connection\n",
      "https://www.justdial.com/Indore/Readymade-Garment-Manufacturers/nct-10401890/page-10\n",
      "ERROR: Check Connection\n",
      "https://www.justdial.com/Indore/Readymade-Garment-Manufacturers/nct-10401890/page-10\n",
      "ERROR: Check Connection\n",
      "https://www.justdial.com/Indore/Readymade-Garment-Manufacturers/nct-10401890/page-10\n",
      "ERROR: Check Connection\n",
      "https://www.justdial.com/Indore/Readymade-Garment-Manufacturers/nct-10401890/page-10\n",
      "ERROR: Check Connection\n",
      "https://www.justdial.com/Indore/Readymade-Garment-Manufacturers/nct-10401890/page-10\n",
      "ERROR: Check Connection\n",
      "https://www.justdial.com/Indore/Readymade-Garment-Manufacturers/nct-10401890/page-10\n",
      "ERROR: Check Connection\n",
      "https://www.justdial.com/Indore/Readymade-Garment-Manufacturers/nct-10401890/page-10\n",
      "ERROR: Check Connection\n",
      "https://www.justdial.com/Indore/Readymade-Garment-Manufacturers/nct-10401890/page-10\n",
      "ERROR: Check Connection\n",
      "https://www.justdial.com/Indore/Readymade-Garment-Manufacturers/nct-10401890/page-10\n",
      "ERROR: Check Connection\n",
      "https://www.justdial.com/Indore/Readymade-Garment-Manufacturers/nct-10401890/page-10\n",
      "ERROR: Check Connection\n",
      "https://www.justdial.com/Indore/Readymade-Garment-Manufacturers/nct-10401890/page-10\n",
      "ERROR: Check Connection\n",
      "https://www.justdial.com/Indore/Readymade-Garment-Manufacturers/nct-10401890/page-10\n",
      "ERROR: Check Connection\n",
      "https://www.justdial.com/Indore/Readymade-Garment-Manufacturers/nct-10401890/page-10\n",
      "ERROR: Check Connection\n",
      "https://www.justdial.com/Indore/Readymade-Garment-Manufacturers/nct-10401890/page-10\n",
      "ERROR: Check Connection\n",
      "https://www.justdial.com/Indore/Readymade-Garment-Manufacturers/nct-10401890/page-10\n",
      "ERROR: Check Connection\n",
      "https://www.justdial.com/Indore/Readymade-Garment-Manufacturers/nct-10401890/page-10\n",
      "==================running========================\n",
      "total Count:  10988\n",
      "https://www.justdial.com/Indore/Readymade-Garment-Manufacturers/nct-10401890/page-11\n",
      "ERROR: Check Connection\n",
      "https://www.justdial.com/Indore/Readymade-Garment-Manufacturers/nct-10401890/page-11\n",
      "ERROR: Check Connection\n",
      "https://www.justdial.com/Indore/Readymade-Garment-Manufacturers/nct-10401890/page-11\n",
      "==================running========================\n",
      "total Count:  10998\n",
      "https://www.justdial.com/Indore/Readymade-Garment-Manufacturers/nct-10401890/page-12\n",
      "==================running========================\n",
      "total Count:  11008\n",
      "https://www.justdial.com/Indore/Readymade-Garment-Manufacturers/nct-10401890/page-13\n",
      "ERROR: Check Connection\n",
      "https://www.justdial.com/Indore/Readymade-Garment-Manufacturers/nct-10401890/page-13\n",
      "ERROR: Check Connection\n",
      "https://www.justdial.com/Indore/Readymade-Garment-Manufacturers/nct-10401890/page-13\n",
      "ERROR: Check Connection\n",
      "https://www.justdial.com/Indore/Readymade-Garment-Manufacturers/nct-10401890/page-13\n",
      "ERROR: Check Connection\n",
      "https://www.justdial.com/Indore/Readymade-Garment-Manufacturers/nct-10401890/page-13\n",
      "==================running========================\n",
      "total Count:  11018\n",
      "https://www.justdial.com/Indore/Readymade-Garment-Manufacturers/nct-10401890/page-14\n",
      "ERROR: Check Connection\n",
      "https://www.justdial.com/Indore/Readymade-Garment-Manufacturers/nct-10401890/page-14\n",
      "ERROR: Check Connection\n",
      "https://www.justdial.com/Indore/Readymade-Garment-Manufacturers/nct-10401890/page-14\n",
      "ERROR: Check Connection\n",
      "https://www.justdial.com/Indore/Readymade-Garment-Manufacturers/nct-10401890/page-14\n",
      "ERROR: Check Connection\n",
      "https://www.justdial.com/Indore/Readymade-Garment-Manufacturers/nct-10401890/page-14\n",
      "ERROR: Check Connection\n",
      "https://www.justdial.com/Indore/Readymade-Garment-Manufacturers/nct-10401890/page-14\n",
      "ERROR: Check Connection\n",
      "https://www.justdial.com/Indore/Readymade-Garment-Manufacturers/nct-10401890/page-14\n",
      "==================running========================\n",
      "total Count:  11028\n",
      "https://www.justdial.com/Indore/Readymade-Garment-Manufacturers/nct-10401890/page-15\n",
      "==================running========================\n",
      "total Count:  11038\n",
      "https://www.justdial.com/Indore/Readymade-Garment-Manufacturers/nct-10401890/page-16\n",
      "==================running========================\n",
      "total Count:  11048\n",
      "https://www.justdial.com/Indore/Readymade-Garment-Manufacturers/nct-10401890/page-17\n",
      "==================running========================\n",
      "total Count:  11058\n",
      "https://www.justdial.com/Indore/Readymade-Garment-Manufacturers/nct-10401890/page-18\n",
      "==================running========================\n",
      "total Count:  11068\n",
      "https://www.justdial.com/Indore/Readymade-Garment-Manufacturers/nct-10401890/page-19\n"
     ]
    },
    {
     "name": "stdout",
     "output_type": "stream",
     "text": [
      "==================running========================\n",
      "total Count:  11078\n",
      "https://www.justdial.com/Indore/Readymade-Garment-Manufacturers/nct-10401890/page-20\n",
      "==================running========================\n",
      "total Count:  11088\n",
      "https://www.justdial.com/Indore/Readymade-Garment-Manufacturers/nct-10401890/page-21\n",
      "ERROR: Check Connection\n",
      "https://www.justdial.com/Indore/Readymade-Garment-Manufacturers/nct-10401890/page-21\n",
      "ERROR: Check Connection\n",
      "https://www.justdial.com/Indore/Readymade-Garment-Manufacturers/nct-10401890/page-21\n",
      "ERROR: Check Connection\n",
      "https://www.justdial.com/Indore/Readymade-Garment-Manufacturers/nct-10401890/page-21\n",
      "ERROR: Check Connection\n",
      "https://www.justdial.com/Indore/Readymade-Garment-Manufacturers/nct-10401890/page-21\n",
      "ERROR: Check Connection\n",
      "https://www.justdial.com/Indore/Readymade-Garment-Manufacturers/nct-10401890/page-21\n",
      "ERROR: Check Connection\n",
      "https://www.justdial.com/Indore/Readymade-Garment-Manufacturers/nct-10401890/page-21\n",
      "==================running========================\n",
      "total Count:  11098\n",
      "https://www.justdial.com/Indore/Readymade-Garment-Manufacturers/nct-10401890/page-22\n",
      "ERROR: Check Connection\n",
      "https://www.justdial.com/Indore/Readymade-Garment-Manufacturers/nct-10401890/page-22\n",
      "ERROR: Check Connection\n",
      "https://www.justdial.com/Indore/Readymade-Garment-Manufacturers/nct-10401890/page-22\n"
     ]
    },
    {
     "ename": "KeyboardInterrupt",
     "evalue": "",
     "output_type": "error",
     "traceback": [
      "\u001b[1;31m---------------------------------------------------------------------------\u001b[0m",
      "\u001b[1;31mTypeError\u001b[0m                                 Traceback (most recent call last)",
      "\u001b[1;32m~\\AppData\\Local\\Continuum\\anaconda3\\envs\\machine_learning\\lib\\site-packages\\urllib3\\connectionpool.py\u001b[0m in \u001b[0;36m_make_request\u001b[1;34m(self, conn, method, url, timeout, chunked, **httplib_request_kw)\u001b[0m\n\u001b[0;32m    376\u001b[0m             \u001b[1;32mtry\u001b[0m\u001b[1;33m:\u001b[0m  \u001b[1;31m# Python 2.7, use buffering of HTTP responses\u001b[0m\u001b[1;33m\u001b[0m\u001b[1;33m\u001b[0m\u001b[0m\n\u001b[1;32m--> 377\u001b[1;33m                 \u001b[0mhttplib_response\u001b[0m \u001b[1;33m=\u001b[0m \u001b[0mconn\u001b[0m\u001b[1;33m.\u001b[0m\u001b[0mgetresponse\u001b[0m\u001b[1;33m(\u001b[0m\u001b[0mbuffering\u001b[0m\u001b[1;33m=\u001b[0m\u001b[1;32mTrue\u001b[0m\u001b[1;33m)\u001b[0m\u001b[1;33m\u001b[0m\u001b[1;33m\u001b[0m\u001b[0m\n\u001b[0m\u001b[0;32m    378\u001b[0m             \u001b[1;32mexcept\u001b[0m \u001b[0mTypeError\u001b[0m\u001b[1;33m:\u001b[0m  \u001b[1;31m# Python 3\u001b[0m\u001b[1;33m\u001b[0m\u001b[1;33m\u001b[0m\u001b[0m\n",
      "\u001b[1;31mTypeError\u001b[0m: getresponse() got an unexpected keyword argument 'buffering'",
      "\nDuring handling of the above exception, another exception occurred:\n",
      "\u001b[1;31mKeyboardInterrupt\u001b[0m                         Traceback (most recent call last)",
      "\u001b[1;32m<ipython-input-42-a1654ab74c14>\u001b[0m in \u001b[0;36m<module>\u001b[1;34m\u001b[0m\n\u001b[0;32m      9\u001b[0m             \u001b[0mprint\u001b[0m\u001b[1;33m(\u001b[0m\u001b[1;34m\"Done cities file not present\"\u001b[0m\u001b[1;33m)\u001b[0m\u001b[1;33m\u001b[0m\u001b[1;33m\u001b[0m\u001b[0m\n\u001b[0;32m     10\u001b[0m         total_count = scraper(\"https://www.justdial.com/\",each[\"name\"],\"Readymade Garment Manufacturers\",total_count,\n\u001b[1;32m---> 11\u001b[1;33m                              depth_limit = 15)\n\u001b[0m\u001b[0;32m     12\u001b[0m         \u001b[0mprint\u001b[0m\u001b[1;33m(\u001b[0m\u001b[1;34m\"total count: \"\u001b[0m\u001b[1;33m,\u001b[0m\u001b[0mtotal_count\u001b[0m\u001b[1;33m)\u001b[0m\u001b[1;33m\u001b[0m\u001b[1;33m\u001b[0m\u001b[0m\n\u001b[0;32m     13\u001b[0m         \u001b[0mprint\u001b[0m\u001b[1;33m(\u001b[0m\u001b[0meach\u001b[0m\u001b[1;33m[\u001b[0m\u001b[1;34m\"name\"\u001b[0m\u001b[1;33m]\u001b[0m\u001b[1;33m,\u001b[0m \u001b[1;34m\"is DONE!!!!!\"\u001b[0m\u001b[1;33m)\u001b[0m\u001b[1;33m\u001b[0m\u001b[1;33m\u001b[0m\u001b[0m\n",
      "\u001b[1;32m<ipython-input-40-facd078e67cc>\u001b[0m in \u001b[0;36mscraper\u001b[1;34m(url, city, keyword, total_count, depth_limit)\u001b[0m\n\u001b[0;32m     22\u001b[0m             \u001b[1;32melse\u001b[0m\u001b[1;33m:\u001b[0m\u001b[1;33m\u001b[0m\u001b[1;33m\u001b[0m\u001b[0m\n\u001b[0;32m     23\u001b[0m                 \u001b[0mdriver\u001b[0m \u001b[1;33m=\u001b[0m \u001b[0mwebdriver\u001b[0m\u001b[1;33m.\u001b[0m\u001b[0mOpera\u001b[0m\u001b[1;33m(\u001b[0m\u001b[0mexecutable_path\u001b[0m \u001b[1;33m=\u001b[0m \u001b[0mpath\u001b[0m\u001b[1;33m[\u001b[0m\u001b[1;34m'opera'\u001b[0m\u001b[1;33m]\u001b[0m\u001b[1;33m,\u001b[0m\u001b[0moptions\u001b[0m \u001b[1;33m=\u001b[0m \u001b[0moptions\u001b[0m\u001b[1;33m)\u001b[0m\u001b[1;33m\u001b[0m\u001b[1;33m\u001b[0m\u001b[0m\n\u001b[1;32m---> 24\u001b[1;33m             \u001b[0mdriver\u001b[0m\u001b[1;33m.\u001b[0m\u001b[0mmaximize_window\u001b[0m\u001b[1;33m(\u001b[0m\u001b[1;33m)\u001b[0m\u001b[1;33m\u001b[0m\u001b[1;33m\u001b[0m\u001b[0m\n\u001b[0m\u001b[0;32m     25\u001b[0m             \u001b[0mdriver\u001b[0m\u001b[1;33m.\u001b[0m\u001b[0mimplicitly_wait\u001b[0m\u001b[1;33m(\u001b[0m\u001b[1;36m3\u001b[0m\u001b[1;33m)\u001b[0m\u001b[1;33m\u001b[0m\u001b[1;33m\u001b[0m\u001b[0m\n\u001b[0;32m     26\u001b[0m             \u001b[0mmarker\u001b[0m\u001b[1;33m+=\u001b[0m\u001b[1;36m1\u001b[0m\u001b[1;33m\u001b[0m\u001b[1;33m\u001b[0m\u001b[0m\n",
      "\u001b[1;32m~\\AppData\\Local\\Continuum\\anaconda3\\envs\\machine_learning\\lib\\site-packages\\selenium\\webdriver\\remote\\webdriver.py\u001b[0m in \u001b[0;36mmaximize_window\u001b[1;34m(self)\u001b[0m\n\u001b[0;32m    735\u001b[0m             \u001b[0mcommand\u001b[0m \u001b[1;33m=\u001b[0m \u001b[0mCommand\u001b[0m\u001b[1;33m.\u001b[0m\u001b[0mMAXIMIZE_WINDOW\u001b[0m\u001b[1;33m\u001b[0m\u001b[1;33m\u001b[0m\u001b[0m\n\u001b[0;32m    736\u001b[0m             \u001b[0mparams\u001b[0m \u001b[1;33m=\u001b[0m \u001b[1;33m{\u001b[0m\u001b[1;34m'windowHandle'\u001b[0m\u001b[1;33m:\u001b[0m \u001b[1;34m'current'\u001b[0m\u001b[1;33m}\u001b[0m\u001b[1;33m\u001b[0m\u001b[1;33m\u001b[0m\u001b[0m\n\u001b[1;32m--> 737\u001b[1;33m         \u001b[0mself\u001b[0m\u001b[1;33m.\u001b[0m\u001b[0mexecute\u001b[0m\u001b[1;33m(\u001b[0m\u001b[0mcommand\u001b[0m\u001b[1;33m,\u001b[0m \u001b[0mparams\u001b[0m\u001b[1;33m)\u001b[0m\u001b[1;33m\u001b[0m\u001b[1;33m\u001b[0m\u001b[0m\n\u001b[0m\u001b[0;32m    738\u001b[0m \u001b[1;33m\u001b[0m\u001b[0m\n\u001b[0;32m    739\u001b[0m     \u001b[1;32mdef\u001b[0m \u001b[0mfullscreen_window\u001b[0m\u001b[1;33m(\u001b[0m\u001b[0mself\u001b[0m\u001b[1;33m)\u001b[0m\u001b[1;33m:\u001b[0m\u001b[1;33m\u001b[0m\u001b[1;33m\u001b[0m\u001b[0m\n",
      "\u001b[1;32m~\\AppData\\Local\\Continuum\\anaconda3\\envs\\machine_learning\\lib\\site-packages\\selenium\\webdriver\\remote\\webdriver.py\u001b[0m in \u001b[0;36mexecute\u001b[1;34m(self, driver_command, params)\u001b[0m\n\u001b[0;32m    317\u001b[0m \u001b[1;33m\u001b[0m\u001b[0m\n\u001b[0;32m    318\u001b[0m         \u001b[0mparams\u001b[0m \u001b[1;33m=\u001b[0m \u001b[0mself\u001b[0m\u001b[1;33m.\u001b[0m\u001b[0m_wrap_value\u001b[0m\u001b[1;33m(\u001b[0m\u001b[0mparams\u001b[0m\u001b[1;33m)\u001b[0m\u001b[1;33m\u001b[0m\u001b[1;33m\u001b[0m\u001b[0m\n\u001b[1;32m--> 319\u001b[1;33m         \u001b[0mresponse\u001b[0m \u001b[1;33m=\u001b[0m \u001b[0mself\u001b[0m\u001b[1;33m.\u001b[0m\u001b[0mcommand_executor\u001b[0m\u001b[1;33m.\u001b[0m\u001b[0mexecute\u001b[0m\u001b[1;33m(\u001b[0m\u001b[0mdriver_command\u001b[0m\u001b[1;33m,\u001b[0m \u001b[0mparams\u001b[0m\u001b[1;33m)\u001b[0m\u001b[1;33m\u001b[0m\u001b[1;33m\u001b[0m\u001b[0m\n\u001b[0m\u001b[0;32m    320\u001b[0m         \u001b[1;32mif\u001b[0m \u001b[0mresponse\u001b[0m\u001b[1;33m:\u001b[0m\u001b[1;33m\u001b[0m\u001b[1;33m\u001b[0m\u001b[0m\n\u001b[0;32m    321\u001b[0m             \u001b[0mself\u001b[0m\u001b[1;33m.\u001b[0m\u001b[0merror_handler\u001b[0m\u001b[1;33m.\u001b[0m\u001b[0mcheck_response\u001b[0m\u001b[1;33m(\u001b[0m\u001b[0mresponse\u001b[0m\u001b[1;33m)\u001b[0m\u001b[1;33m\u001b[0m\u001b[1;33m\u001b[0m\u001b[0m\n",
      "\u001b[1;32m~\\AppData\\Local\\Continuum\\anaconda3\\envs\\machine_learning\\lib\\site-packages\\selenium\\webdriver\\remote\\remote_connection.py\u001b[0m in \u001b[0;36mexecute\u001b[1;34m(self, command, params)\u001b[0m\n\u001b[0;32m    372\u001b[0m         \u001b[0mdata\u001b[0m \u001b[1;33m=\u001b[0m \u001b[0mutils\u001b[0m\u001b[1;33m.\u001b[0m\u001b[0mdump_json\u001b[0m\u001b[1;33m(\u001b[0m\u001b[0mparams\u001b[0m\u001b[1;33m)\u001b[0m\u001b[1;33m\u001b[0m\u001b[1;33m\u001b[0m\u001b[0m\n\u001b[0;32m    373\u001b[0m         \u001b[0murl\u001b[0m \u001b[1;33m=\u001b[0m \u001b[1;34m'%s%s'\u001b[0m \u001b[1;33m%\u001b[0m \u001b[1;33m(\u001b[0m\u001b[0mself\u001b[0m\u001b[1;33m.\u001b[0m\u001b[0m_url\u001b[0m\u001b[1;33m,\u001b[0m \u001b[0mpath\u001b[0m\u001b[1;33m)\u001b[0m\u001b[1;33m\u001b[0m\u001b[1;33m\u001b[0m\u001b[0m\n\u001b[1;32m--> 374\u001b[1;33m         \u001b[1;32mreturn\u001b[0m \u001b[0mself\u001b[0m\u001b[1;33m.\u001b[0m\u001b[0m_request\u001b[0m\u001b[1;33m(\u001b[0m\u001b[0mcommand_info\u001b[0m\u001b[1;33m[\u001b[0m\u001b[1;36m0\u001b[0m\u001b[1;33m]\u001b[0m\u001b[1;33m,\u001b[0m \u001b[0murl\u001b[0m\u001b[1;33m,\u001b[0m \u001b[0mbody\u001b[0m\u001b[1;33m=\u001b[0m\u001b[0mdata\u001b[0m\u001b[1;33m)\u001b[0m\u001b[1;33m\u001b[0m\u001b[1;33m\u001b[0m\u001b[0m\n\u001b[0m\u001b[0;32m    375\u001b[0m \u001b[1;33m\u001b[0m\u001b[0m\n\u001b[0;32m    376\u001b[0m     \u001b[1;32mdef\u001b[0m \u001b[0m_request\u001b[0m\u001b[1;33m(\u001b[0m\u001b[0mself\u001b[0m\u001b[1;33m,\u001b[0m \u001b[0mmethod\u001b[0m\u001b[1;33m,\u001b[0m \u001b[0murl\u001b[0m\u001b[1;33m,\u001b[0m \u001b[0mbody\u001b[0m\u001b[1;33m=\u001b[0m\u001b[1;32mNone\u001b[0m\u001b[1;33m)\u001b[0m\u001b[1;33m:\u001b[0m\u001b[1;33m\u001b[0m\u001b[1;33m\u001b[0m\u001b[0m\n",
      "\u001b[1;32m~\\AppData\\Local\\Continuum\\anaconda3\\envs\\machine_learning\\lib\\site-packages\\selenium\\webdriver\\remote\\remote_connection.py\u001b[0m in \u001b[0;36m_request\u001b[1;34m(self, method, url, body)\u001b[0m\n\u001b[0;32m    395\u001b[0m \u001b[1;33m\u001b[0m\u001b[0m\n\u001b[0;32m    396\u001b[0m         \u001b[1;32mif\u001b[0m \u001b[0mself\u001b[0m\u001b[1;33m.\u001b[0m\u001b[0mkeep_alive\u001b[0m\u001b[1;33m:\u001b[0m\u001b[1;33m\u001b[0m\u001b[1;33m\u001b[0m\u001b[0m\n\u001b[1;32m--> 397\u001b[1;33m             \u001b[0mresp\u001b[0m \u001b[1;33m=\u001b[0m \u001b[0mself\u001b[0m\u001b[1;33m.\u001b[0m\u001b[0m_conn\u001b[0m\u001b[1;33m.\u001b[0m\u001b[0mrequest\u001b[0m\u001b[1;33m(\u001b[0m\u001b[0mmethod\u001b[0m\u001b[1;33m,\u001b[0m \u001b[0murl\u001b[0m\u001b[1;33m,\u001b[0m \u001b[0mbody\u001b[0m\u001b[1;33m=\u001b[0m\u001b[0mbody\u001b[0m\u001b[1;33m,\u001b[0m \u001b[0mheaders\u001b[0m\u001b[1;33m=\u001b[0m\u001b[0mheaders\u001b[0m\u001b[1;33m)\u001b[0m\u001b[1;33m\u001b[0m\u001b[1;33m\u001b[0m\u001b[0m\n\u001b[0m\u001b[0;32m    398\u001b[0m \u001b[1;33m\u001b[0m\u001b[0m\n\u001b[0;32m    399\u001b[0m             \u001b[0mstatuscode\u001b[0m \u001b[1;33m=\u001b[0m \u001b[0mresp\u001b[0m\u001b[1;33m.\u001b[0m\u001b[0mstatus\u001b[0m\u001b[1;33m\u001b[0m\u001b[1;33m\u001b[0m\u001b[0m\n",
      "\u001b[1;32m~\\AppData\\Local\\Continuum\\anaconda3\\envs\\machine_learning\\lib\\site-packages\\urllib3\\request.py\u001b[0m in \u001b[0;36mrequest\u001b[1;34m(self, method, url, fields, headers, **urlopen_kw)\u001b[0m\n\u001b[0;32m     70\u001b[0m             return self.request_encode_body(method, url, fields=fields,\n\u001b[0;32m     71\u001b[0m                                             \u001b[0mheaders\u001b[0m\u001b[1;33m=\u001b[0m\u001b[0mheaders\u001b[0m\u001b[1;33m,\u001b[0m\u001b[1;33m\u001b[0m\u001b[1;33m\u001b[0m\u001b[0m\n\u001b[1;32m---> 72\u001b[1;33m                                             **urlopen_kw)\n\u001b[0m\u001b[0;32m     73\u001b[0m \u001b[1;33m\u001b[0m\u001b[0m\n\u001b[0;32m     74\u001b[0m     def request_encode_url(self, method, url, fields=None, headers=None,\n",
      "\u001b[1;32m~\\AppData\\Local\\Continuum\\anaconda3\\envs\\machine_learning\\lib\\site-packages\\urllib3\\request.py\u001b[0m in \u001b[0;36mrequest_encode_body\u001b[1;34m(self, method, url, fields, headers, encode_multipart, multipart_boundary, **urlopen_kw)\u001b[0m\n\u001b[0;32m    148\u001b[0m         \u001b[0mextra_kw\u001b[0m\u001b[1;33m.\u001b[0m\u001b[0mupdate\u001b[0m\u001b[1;33m(\u001b[0m\u001b[0murlopen_kw\u001b[0m\u001b[1;33m)\u001b[0m\u001b[1;33m\u001b[0m\u001b[1;33m\u001b[0m\u001b[0m\n\u001b[0;32m    149\u001b[0m \u001b[1;33m\u001b[0m\u001b[0m\n\u001b[1;32m--> 150\u001b[1;33m         \u001b[1;32mreturn\u001b[0m \u001b[0mself\u001b[0m\u001b[1;33m.\u001b[0m\u001b[0murlopen\u001b[0m\u001b[1;33m(\u001b[0m\u001b[0mmethod\u001b[0m\u001b[1;33m,\u001b[0m \u001b[0murl\u001b[0m\u001b[1;33m,\u001b[0m \u001b[1;33m**\u001b[0m\u001b[0mextra_kw\u001b[0m\u001b[1;33m)\u001b[0m\u001b[1;33m\u001b[0m\u001b[1;33m\u001b[0m\u001b[0m\n\u001b[0m",
      "\u001b[1;32m~\\AppData\\Local\\Continuum\\anaconda3\\envs\\machine_learning\\lib\\site-packages\\urllib3\\poolmanager.py\u001b[0m in \u001b[0;36murlopen\u001b[1;34m(self, method, url, redirect, **kw)\u001b[0m\n\u001b[0;32m    321\u001b[0m             \u001b[0mresponse\u001b[0m \u001b[1;33m=\u001b[0m \u001b[0mconn\u001b[0m\u001b[1;33m.\u001b[0m\u001b[0murlopen\u001b[0m\u001b[1;33m(\u001b[0m\u001b[0mmethod\u001b[0m\u001b[1;33m,\u001b[0m \u001b[0murl\u001b[0m\u001b[1;33m,\u001b[0m \u001b[1;33m**\u001b[0m\u001b[0mkw\u001b[0m\u001b[1;33m)\u001b[0m\u001b[1;33m\u001b[0m\u001b[1;33m\u001b[0m\u001b[0m\n\u001b[0;32m    322\u001b[0m         \u001b[1;32melse\u001b[0m\u001b[1;33m:\u001b[0m\u001b[1;33m\u001b[0m\u001b[1;33m\u001b[0m\u001b[0m\n\u001b[1;32m--> 323\u001b[1;33m             \u001b[0mresponse\u001b[0m \u001b[1;33m=\u001b[0m \u001b[0mconn\u001b[0m\u001b[1;33m.\u001b[0m\u001b[0murlopen\u001b[0m\u001b[1;33m(\u001b[0m\u001b[0mmethod\u001b[0m\u001b[1;33m,\u001b[0m \u001b[0mu\u001b[0m\u001b[1;33m.\u001b[0m\u001b[0mrequest_uri\u001b[0m\u001b[1;33m,\u001b[0m \u001b[1;33m**\u001b[0m\u001b[0mkw\u001b[0m\u001b[1;33m)\u001b[0m\u001b[1;33m\u001b[0m\u001b[1;33m\u001b[0m\u001b[0m\n\u001b[0m\u001b[0;32m    324\u001b[0m \u001b[1;33m\u001b[0m\u001b[0m\n\u001b[0;32m    325\u001b[0m         \u001b[0mredirect_location\u001b[0m \u001b[1;33m=\u001b[0m \u001b[0mredirect\u001b[0m \u001b[1;32mand\u001b[0m \u001b[0mresponse\u001b[0m\u001b[1;33m.\u001b[0m\u001b[0mget_redirect_location\u001b[0m\u001b[1;33m(\u001b[0m\u001b[1;33m)\u001b[0m\u001b[1;33m\u001b[0m\u001b[1;33m\u001b[0m\u001b[0m\n",
      "\u001b[1;32m~\\AppData\\Local\\Continuum\\anaconda3\\envs\\machine_learning\\lib\\site-packages\\urllib3\\connectionpool.py\u001b[0m in \u001b[0;36murlopen\u001b[1;34m(self, method, url, body, headers, retries, redirect, assert_same_host, timeout, pool_timeout, release_conn, chunked, body_pos, **response_kw)\u001b[0m\n\u001b[0;32m    598\u001b[0m                                                   \u001b[0mtimeout\u001b[0m\u001b[1;33m=\u001b[0m\u001b[0mtimeout_obj\u001b[0m\u001b[1;33m,\u001b[0m\u001b[1;33m\u001b[0m\u001b[1;33m\u001b[0m\u001b[0m\n\u001b[0;32m    599\u001b[0m                                                   \u001b[0mbody\u001b[0m\u001b[1;33m=\u001b[0m\u001b[0mbody\u001b[0m\u001b[1;33m,\u001b[0m \u001b[0mheaders\u001b[0m\u001b[1;33m=\u001b[0m\u001b[0mheaders\u001b[0m\u001b[1;33m,\u001b[0m\u001b[1;33m\u001b[0m\u001b[1;33m\u001b[0m\u001b[0m\n\u001b[1;32m--> 600\u001b[1;33m                                                   chunked=chunked)\n\u001b[0m\u001b[0;32m    601\u001b[0m \u001b[1;33m\u001b[0m\u001b[0m\n\u001b[0;32m    602\u001b[0m             \u001b[1;31m# If we're going to release the connection in ``finally:``, then\u001b[0m\u001b[1;33m\u001b[0m\u001b[1;33m\u001b[0m\u001b[1;33m\u001b[0m\u001b[0m\n",
      "\u001b[1;32m~\\AppData\\Local\\Continuum\\anaconda3\\envs\\machine_learning\\lib\\site-packages\\urllib3\\connectionpool.py\u001b[0m in \u001b[0;36m_make_request\u001b[1;34m(self, conn, method, url, timeout, chunked, **httplib_request_kw)\u001b[0m\n\u001b[0;32m    378\u001b[0m             \u001b[1;32mexcept\u001b[0m \u001b[0mTypeError\u001b[0m\u001b[1;33m:\u001b[0m  \u001b[1;31m# Python 3\u001b[0m\u001b[1;33m\u001b[0m\u001b[1;33m\u001b[0m\u001b[0m\n\u001b[0;32m    379\u001b[0m                 \u001b[1;32mtry\u001b[0m\u001b[1;33m:\u001b[0m\u001b[1;33m\u001b[0m\u001b[1;33m\u001b[0m\u001b[0m\n\u001b[1;32m--> 380\u001b[1;33m                     \u001b[0mhttplib_response\u001b[0m \u001b[1;33m=\u001b[0m \u001b[0mconn\u001b[0m\u001b[1;33m.\u001b[0m\u001b[0mgetresponse\u001b[0m\u001b[1;33m(\u001b[0m\u001b[1;33m)\u001b[0m\u001b[1;33m\u001b[0m\u001b[1;33m\u001b[0m\u001b[0m\n\u001b[0m\u001b[0;32m    381\u001b[0m                 \u001b[1;32mexcept\u001b[0m \u001b[0mException\u001b[0m \u001b[1;32mas\u001b[0m \u001b[0me\u001b[0m\u001b[1;33m:\u001b[0m\u001b[1;33m\u001b[0m\u001b[1;33m\u001b[0m\u001b[0m\n\u001b[0;32m    382\u001b[0m                     \u001b[1;31m# Remove the TypeError from the exception chain in Python 3;\u001b[0m\u001b[1;33m\u001b[0m\u001b[1;33m\u001b[0m\u001b[1;33m\u001b[0m\u001b[0m\n",
      "\u001b[1;32m~\\AppData\\Local\\Continuum\\anaconda3\\envs\\machine_learning\\lib\\http\\client.py\u001b[0m in \u001b[0;36mgetresponse\u001b[1;34m(self)\u001b[0m\n\u001b[0;32m   1319\u001b[0m         \u001b[1;32mtry\u001b[0m\u001b[1;33m:\u001b[0m\u001b[1;33m\u001b[0m\u001b[1;33m\u001b[0m\u001b[0m\n\u001b[0;32m   1320\u001b[0m             \u001b[1;32mtry\u001b[0m\u001b[1;33m:\u001b[0m\u001b[1;33m\u001b[0m\u001b[1;33m\u001b[0m\u001b[0m\n\u001b[1;32m-> 1321\u001b[1;33m                 \u001b[0mresponse\u001b[0m\u001b[1;33m.\u001b[0m\u001b[0mbegin\u001b[0m\u001b[1;33m(\u001b[0m\u001b[1;33m)\u001b[0m\u001b[1;33m\u001b[0m\u001b[1;33m\u001b[0m\u001b[0m\n\u001b[0m\u001b[0;32m   1322\u001b[0m             \u001b[1;32mexcept\u001b[0m \u001b[0mConnectionError\u001b[0m\u001b[1;33m:\u001b[0m\u001b[1;33m\u001b[0m\u001b[1;33m\u001b[0m\u001b[0m\n\u001b[0;32m   1323\u001b[0m                 \u001b[0mself\u001b[0m\u001b[1;33m.\u001b[0m\u001b[0mclose\u001b[0m\u001b[1;33m(\u001b[0m\u001b[1;33m)\u001b[0m\u001b[1;33m\u001b[0m\u001b[1;33m\u001b[0m\u001b[0m\n",
      "\u001b[1;32m~\\AppData\\Local\\Continuum\\anaconda3\\envs\\machine_learning\\lib\\http\\client.py\u001b[0m in \u001b[0;36mbegin\u001b[1;34m(self)\u001b[0m\n\u001b[0;32m    294\u001b[0m         \u001b[1;31m# read until we get a non-100 response\u001b[0m\u001b[1;33m\u001b[0m\u001b[1;33m\u001b[0m\u001b[1;33m\u001b[0m\u001b[0m\n\u001b[0;32m    295\u001b[0m         \u001b[1;32mwhile\u001b[0m \u001b[1;32mTrue\u001b[0m\u001b[1;33m:\u001b[0m\u001b[1;33m\u001b[0m\u001b[1;33m\u001b[0m\u001b[0m\n\u001b[1;32m--> 296\u001b[1;33m             \u001b[0mversion\u001b[0m\u001b[1;33m,\u001b[0m \u001b[0mstatus\u001b[0m\u001b[1;33m,\u001b[0m \u001b[0mreason\u001b[0m \u001b[1;33m=\u001b[0m \u001b[0mself\u001b[0m\u001b[1;33m.\u001b[0m\u001b[0m_read_status\u001b[0m\u001b[1;33m(\u001b[0m\u001b[1;33m)\u001b[0m\u001b[1;33m\u001b[0m\u001b[1;33m\u001b[0m\u001b[0m\n\u001b[0m\u001b[0;32m    297\u001b[0m             \u001b[1;32mif\u001b[0m \u001b[0mstatus\u001b[0m \u001b[1;33m!=\u001b[0m \u001b[0mCONTINUE\u001b[0m\u001b[1;33m:\u001b[0m\u001b[1;33m\u001b[0m\u001b[1;33m\u001b[0m\u001b[0m\n\u001b[0;32m    298\u001b[0m                 \u001b[1;32mbreak\u001b[0m\u001b[1;33m\u001b[0m\u001b[1;33m\u001b[0m\u001b[0m\n",
      "\u001b[1;32m~\\AppData\\Local\\Continuum\\anaconda3\\envs\\machine_learning\\lib\\http\\client.py\u001b[0m in \u001b[0;36m_read_status\u001b[1;34m(self)\u001b[0m\n\u001b[0;32m    255\u001b[0m \u001b[1;33m\u001b[0m\u001b[0m\n\u001b[0;32m    256\u001b[0m     \u001b[1;32mdef\u001b[0m \u001b[0m_read_status\u001b[0m\u001b[1;33m(\u001b[0m\u001b[0mself\u001b[0m\u001b[1;33m)\u001b[0m\u001b[1;33m:\u001b[0m\u001b[1;33m\u001b[0m\u001b[1;33m\u001b[0m\u001b[0m\n\u001b[1;32m--> 257\u001b[1;33m         \u001b[0mline\u001b[0m \u001b[1;33m=\u001b[0m \u001b[0mstr\u001b[0m\u001b[1;33m(\u001b[0m\u001b[0mself\u001b[0m\u001b[1;33m.\u001b[0m\u001b[0mfp\u001b[0m\u001b[1;33m.\u001b[0m\u001b[0mreadline\u001b[0m\u001b[1;33m(\u001b[0m\u001b[0m_MAXLINE\u001b[0m \u001b[1;33m+\u001b[0m \u001b[1;36m1\u001b[0m\u001b[1;33m)\u001b[0m\u001b[1;33m,\u001b[0m \u001b[1;34m\"iso-8859-1\"\u001b[0m\u001b[1;33m)\u001b[0m\u001b[1;33m\u001b[0m\u001b[1;33m\u001b[0m\u001b[0m\n\u001b[0m\u001b[0;32m    258\u001b[0m         \u001b[1;32mif\u001b[0m \u001b[0mlen\u001b[0m\u001b[1;33m(\u001b[0m\u001b[0mline\u001b[0m\u001b[1;33m)\u001b[0m \u001b[1;33m>\u001b[0m \u001b[0m_MAXLINE\u001b[0m\u001b[1;33m:\u001b[0m\u001b[1;33m\u001b[0m\u001b[1;33m\u001b[0m\u001b[0m\n\u001b[0;32m    259\u001b[0m             \u001b[1;32mraise\u001b[0m \u001b[0mLineTooLong\u001b[0m\u001b[1;33m(\u001b[0m\u001b[1;34m\"status line\"\u001b[0m\u001b[1;33m)\u001b[0m\u001b[1;33m\u001b[0m\u001b[1;33m\u001b[0m\u001b[0m\n",
      "\u001b[1;32m~\\AppData\\Local\\Continuum\\anaconda3\\envs\\machine_learning\\lib\\socket.py\u001b[0m in \u001b[0;36mreadinto\u001b[1;34m(self, b)\u001b[0m\n\u001b[0;32m    587\u001b[0m         \u001b[1;32mwhile\u001b[0m \u001b[1;32mTrue\u001b[0m\u001b[1;33m:\u001b[0m\u001b[1;33m\u001b[0m\u001b[1;33m\u001b[0m\u001b[0m\n\u001b[0;32m    588\u001b[0m             \u001b[1;32mtry\u001b[0m\u001b[1;33m:\u001b[0m\u001b[1;33m\u001b[0m\u001b[1;33m\u001b[0m\u001b[0m\n\u001b[1;32m--> 589\u001b[1;33m                 \u001b[1;32mreturn\u001b[0m \u001b[0mself\u001b[0m\u001b[1;33m.\u001b[0m\u001b[0m_sock\u001b[0m\u001b[1;33m.\u001b[0m\u001b[0mrecv_into\u001b[0m\u001b[1;33m(\u001b[0m\u001b[0mb\u001b[0m\u001b[1;33m)\u001b[0m\u001b[1;33m\u001b[0m\u001b[1;33m\u001b[0m\u001b[0m\n\u001b[0m\u001b[0;32m    590\u001b[0m             \u001b[1;32mexcept\u001b[0m \u001b[0mtimeout\u001b[0m\u001b[1;33m:\u001b[0m\u001b[1;33m\u001b[0m\u001b[1;33m\u001b[0m\u001b[0m\n\u001b[0;32m    591\u001b[0m                 \u001b[0mself\u001b[0m\u001b[1;33m.\u001b[0m\u001b[0m_timeout_occurred\u001b[0m \u001b[1;33m=\u001b[0m \u001b[1;32mTrue\u001b[0m\u001b[1;33m\u001b[0m\u001b[1;33m\u001b[0m\u001b[0m\n",
      "\u001b[1;31mKeyboardInterrupt\u001b[0m: "
     ]
    }
   ],
   "source": [
    "\n",
    "for each in cities[:15]:\n",
    "    if each[\"name\"] not in done:\n",
    "        print(each[\"name\"]+'--begining')\n",
    "        try:\n",
    "            done = pickle.load(open(\"done_cities.pkl\",\"rb\"))\n",
    "        except:\n",
    "            done = []\n",
    "            print(\"Done cities file not present\")\n",
    "        total_count = scraper(\"https://www.justdial.com/\",each[\"name\"],\"Readymade Garment Manufacturers\",total_count,\n",
    "                             depth_limit = 15)\n",
    "        print(\"total count: \",total_count)\n",
    "        print(each[\"name\"], \"is DONE!!!!!\")\n",
    "        done.append(each[\"name\"])\n",
    "        pickle.dump(done,open(\"done_cities.pkl\",\"wb\"))\n",
    "        clear_output(wait=True)\n",
    "        \n",
    "        \n",
    "        "
   ]
  },
  {
   "cell_type": "code",
   "execution_count": 83,
   "metadata": {},
   "outputs": [],
   "source": [
    "pickle.dump(done,open(\"done.pickle\",\"wb\"))"
   ]
  },
  {
   "cell_type": "code",
   "execution_count": null,
   "metadata": {},
   "outputs": [],
   "source": [
    "backup_url = https://www.justdial.com/Ahmedabad/Textile-Manufacturers/nct-10477448/page-40"
   ]
  },
  {
   "cell_type": "code",
   "execution_count": 16,
   "metadata": {},
   "outputs": [
    {
     "name": "stdout",
     "output_type": "stream",
     "text": [
      "ka\n"
     ]
    }
   ],
   "source": [
    "if re.search('des',html):\n",
    "    print(\"ka\")"
   ]
  },
  {
   "cell_type": "code",
   "execution_count": 86,
   "metadata": {},
   "outputs": [],
   "source": [
    "DataFrame({'company':list(phbook.keys()),'phno':list(phbook.values())}).to_csv('demo.csv')"
   ]
  },
  {
   "cell_type": "code",
   "execution_count": 14,
   "metadata": {},
   "outputs": [],
   "source": [
    "from pandas import read_csv"
   ]
  },
  {
   "cell_type": "code",
   "execution_count": 15,
   "metadata": {},
   "outputs": [],
   "source": [
    "k = read_csv('phbook.csv')"
   ]
  },
  {
   "cell_type": "code",
   "execution_count": 17,
   "metadata": {},
   "outputs": [],
   "source": [
    "k = k[['city','company','phno']]"
   ]
  },
  {
   "cell_type": "code",
   "execution_count": 19,
   "metadata": {},
   "outputs": [],
   "source": [
    "k['search-key'] = None"
   ]
  },
  {
   "cell_type": "code",
   "execution_count": 20,
   "metadata": {},
   "outputs": [
    {
     "data": {
      "text/html": [
       "<div>\n",
       "<style scoped>\n",
       "    .dataframe tbody tr th:only-of-type {\n",
       "        vertical-align: middle;\n",
       "    }\n",
       "\n",
       "    .dataframe tbody tr th {\n",
       "        vertical-align: top;\n",
       "    }\n",
       "\n",
       "    .dataframe thead th {\n",
       "        text-align: right;\n",
       "    }\n",
       "</style>\n",
       "<table border=\"1\" class=\"dataframe\">\n",
       "  <thead>\n",
       "    <tr style=\"text-align: right;\">\n",
       "      <th></th>\n",
       "      <th>city</th>\n",
       "      <th>company</th>\n",
       "      <th>phno</th>\n",
       "      <th>search-key</th>\n",
       "    </tr>\n",
       "  </thead>\n",
       "  <tbody>\n",
       "    <tr>\n",
       "      <th>0</th>\n",
       "      <td>mysore</td>\n",
       "      <td>Morarjee Textiles Ltd</td>\n",
       "      <td>+(91)-07103-281100,</td>\n",
       "      <td>None</td>\n",
       "    </tr>\n",
       "    <tr>\n",
       "      <th>1</th>\n",
       "      <td>mysore</td>\n",
       "      <td>V K T K Textiles</td>\n",
       "      <td>+(91)-44-27224150,</td>\n",
       "      <td>None</td>\n",
       "    </tr>\n",
       "    <tr>\n",
       "      <th>2</th>\n",
       "      <td>mysore</td>\n",
       "      <td>Rajasthan Textile Mills</td>\n",
       "      <td>+(91)-7432-222052,</td>\n",
       "      <td>None</td>\n",
       "    </tr>\n",
       "    <tr>\n",
       "      <th>3</th>\n",
       "      <td>mysore</td>\n",
       "      <td>Lakshmi Mills Company Ltd</td>\n",
       "      <td>+(91)-422-2245461,</td>\n",
       "      <td>None</td>\n",
       "    </tr>\n",
       "    <tr>\n",
       "      <th>4</th>\n",
       "      <td>mysore</td>\n",
       "      <td>Parameswari Textiles</td>\n",
       "      <td>+(91)-4324-221969,</td>\n",
       "      <td>None</td>\n",
       "    </tr>\n",
       "  </tbody>\n",
       "</table>\n",
       "</div>"
      ],
      "text/plain": [
       "     city                    company                 phno search-key\n",
       "0  mysore      Morarjee Textiles Ltd  +(91)-07103-281100,       None\n",
       "1  mysore           V K T K Textiles   +(91)-44-27224150,       None\n",
       "2  mysore    Rajasthan Textile Mills   +(91)-7432-222052,       None\n",
       "3  mysore  Lakshmi Mills Company Ltd   +(91)-422-2245461,       None\n",
       "4  mysore       Parameswari Textiles   +(91)-4324-221969,       None"
      ]
     },
     "execution_count": 20,
     "metadata": {},
     "output_type": "execute_result"
    }
   ],
   "source": [
    "k.head()"
   ]
  },
  {
   "cell_type": "code",
   "execution_count": 84,
   "metadata": {},
   "outputs": [
    {
     "data": {
      "text/plain": [
       "'https://www.justdial.com/Bengaluru/Textile-Manufacturers/nct-10477448/page-2'"
      ]
     },
     "execution_count": 84,
     "metadata": {},
     "output_type": "execute_result"
    }
   ],
   "source": [
    "url"
   ]
  },
  {
   "cell_type": "code",
   "execution_count": 102,
   "metadata": {},
   "outputs": [],
   "source": [
    "done.append(\"Jaipur\")"
   ]
  },
  {
   "cell_type": "code",
   "execution_count": 38,
   "metadata": {},
   "outputs": [
    {
     "name": "stdout",
     "output_type": "stream",
     "text": [
      "nakkan\n"
     ]
    }
   ],
   "source": [
    "from IPython.display import clear_output\n",
    "\n",
    "for i in range(10):\n",
    "    clear_output(wait=True)\n",
    "    print(\"nakkan\", flush=True)"
   ]
  },
  {
   "cell_type": "code",
   "execution_count": null,
   "metadata": {},
   "outputs": [],
   "source": []
  }
 ],
 "metadata": {
  "kernelspec": {
   "display_name": "Python 3",
   "language": "python",
   "name": "python3"
  },
  "language_info": {
   "codemirror_mode": {
    "name": "ipython",
    "version": 3
   },
   "file_extension": ".py",
   "mimetype": "text/x-python",
   "name": "python",
   "nbconvert_exporter": "python",
   "pygments_lexer": "ipython3",
   "version": "3.7.0"
  }
 },
 "nbformat": 4,
 "nbformat_minor": 2
}
