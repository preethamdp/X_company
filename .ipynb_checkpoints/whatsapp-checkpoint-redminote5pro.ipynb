{
 "cells": [
  {
   "cell_type": "code",
   "execution_count": 9,
   "metadata": {},
   "outputs": [],
   "source": [
    "from selenium import webdriver \n",
    "from selenium.webdriver.support.ui import WebDriverWait \n",
    "from selenium.webdriver.support import expected_conditions as EC \n",
    "from selenium.webdriver.common.keys import Keys \n",
    "from selenium.webdriver.common.by import By \n",
    "from selenium.webdriver.common.action_chains import ActionChains\n",
    "\n",
    "import time \n",
    "import _thread\n"
   ]
  },
  {
   "cell_type": "code",
   "execution_count": 22,
   "metadata": {},
   "outputs": [],
   "source": [
    "# Replace below path with the absolute path \n",
    "# to chromedriver in your computer \n",
    " \n",
    "\n",
    "def sender(phno,msg,driver):\n",
    "    INPUT_XPATH = '//*[@id=\"main\"]/footer/div[1]/div[2]/div/div[2]'\n",
    "    url = 'https://web.whatsapp.com/send?phone=+91' + str(phno)\n",
    "    driver.get(url) \n",
    "    time.sleep(2)\n",
    "    input_box = WebDriverWait(driver,50).until(lambda driver: driver.find_element_by_xpath(INPUT_XPATH))\n",
    "    input_box.click()\n",
    "    for each in msg.split('\\n'):\n",
    "        input_box.send_keys(each.strip())\n",
    "        ActionChains(driver).key_down(Keys.SHIFT).key_down(Keys.ENTER).key_up(Keys.ENTER).key_up(Keys.SHIFT).perform()\n",
    "    input_box.send_keys(Keys.ENTER)\n",
    "    time.sleep(1)\n",
    "    return \"done\"\n",
    "    \n",
    "def login():\n",
    "    main_computer = \"C:/Users/home/Downloads/drivers/chromedriver\"\n",
    "    laptop = \"C:/Users/preetham/Downloads/drivers/chromedriver\"\n",
    "    driver = webdriver.Chrome(main_computer)\n",
    "    driver.get('https://web.whatsapp.com')\n",
    "    time.sleep(20)\n",
    "#     if input(\"are you logged in bruh!!!!???\") == \"y\":\n",
    "#         return driver\n",
    "#     else:\n",
    "#         print(\"are you good bruh!!!!???\")\n",
    "#         return None\n",
    "    "
   ]
  },
  {
   "cell_type": "code",
   "execution_count": 16,
   "metadata": {},
   "outputs": [],
   "source": [
    "def send():\n",
    "    phnum = 8892005304\n",
    "    text = \"channagidhya\"\n",
    "    try:\n",
    "        driver = login()\n",
    "        print(\"duh\")\n",
    "    except:\n",
    "        print(\"check webdriver location bruh!!\")\n",
    "        print(\"Something wrong while logging in!!!\")\n",
    "    try:\n",
    "        sender(phnum,text,driver)\n",
    "    except:\n",
    "        print(\"something wrong while sending!!!\")"
   ]
  },
  {
   "cell_type": "code",
   "execution_count": 23,
   "metadata": {},
   "outputs": [],
   "source": [
    "def find_textbox(driver,tries = 0):\n",
    "    if tries<5:\n",
    "        try:\n",
    "            inp = driver.find_element_by_xpath('//*[@id=\"main\"]/footer/div[1]/div[2]/div/div[2]')\n",
    "            return inp\n",
    "        except:\n",
    "            print(\"trying again bruh!!!!\")\n",
    "            time.sleep(5)\n",
    "            tries +=1\n",
    "            find_textbox(driver,tries)\n",
    "    "
   ]
  },
  {
   "cell_type": "code",
   "execution_count": 21,
   "metadata": {},
   "outputs": [],
   "source": [
    "def thread_starter(num_of_threads = 1):\n",
    "    for _ in range(num_of_threads):\n",
    "        _thread.start_new_thread(send,())"
   ]
  },
  {
   "cell_type": "code",
   "execution_count": 19,
   "metadata": {},
   "outputs": [
    {
     "name": "stdout",
     "output_type": "stream",
     "text": [
      "are you logged in bruh!!!!???d\n",
      "are you good bruh!!!!???\n",
      "duh\n",
      "something wrong while sending!!!\n"
     ]
    }
   ],
   "source": [
    "if __name__ == \"__main__\":\n",
    "    thread_starter(num_of_threads=1)"
   ]
  },
  {
   "cell_type": "code",
   "execution_count": null,
   "metadata": {},
   "outputs": [],
   "source": []
  },
  {
   "cell_type": "code",
   "execution_count": null,
   "metadata": {},
   "outputs": [],
   "source": []
  },
  {
   "cell_type": "code",
   "execution_count": null,
   "metadata": {},
   "outputs": [],
   "source": []
  },
  {
   "cell_type": "code",
   "execution_count": null,
   "metadata": {},
   "outputs": [],
   "source": []
  },
  {
   "cell_type": "code",
   "execution_count": null,
   "metadata": {},
   "outputs": [],
   "source": []
  },
  {
   "cell_type": "code",
   "execution_count": 65,
   "metadata": {},
   "outputs": [],
   "source": []
  },
  {
   "cell_type": "code",
   "execution_count": 74,
   "metadata": {},
   "outputs": [],
   "source": [
    "phno = 7338336407\n",
    "msg = \"anthamma\"\n",
    "url = 'https://web.whatsapp.com/send?phone=+91' + str(phno)\n",
    "driver.get(url)"
   ]
  },
  {
   "cell_type": "code",
   "execution_count": 75,
   "metadata": {},
   "outputs": [],
   "source": [
    "inputbox_xpath = '//*[@id=\"main\"]/footer/div[1]/div[2]/div/div[2]'\n",
    "input_box_search = WebDriverWait(driver,50).until(lambda driver: driver.find_element_by_xpath(inputbox_xpath))\n",
    "input_box_search.click()"
   ]
  },
  {
   "cell_type": "code",
   "execution_count": 68,
   "metadata": {},
   "outputs": [],
   "source": [
    "inp.click()"
   ]
  },
  {
   "cell_type": "code",
   "execution_count": 69,
   "metadata": {},
   "outputs": [],
   "source": [
    "inp.send_keys(\"test\")"
   ]
  },
  {
   "cell_type": "code",
   "execution_count": 70,
   "metadata": {},
   "outputs": [],
   "source": [
    "inp.send_keys(Keys.ENTER)"
   ]
  },
  {
   "cell_type": "code",
   "execution_count": 32,
   "metadata": {},
   "outputs": [],
   "source": [
    "keyboard.press_and_release(\"e\")"
   ]
  },
  {
   "cell_type": "code",
   "execution_count": null,
   "metadata": {},
   "outputs": [],
   "source": [
    "\n"
   ]
  },
  {
   "cell_type": "code",
   "execution_count": null,
   "metadata": {},
   "outputs": [],
   "source": []
  }
 ],
 "metadata": {
  "kernelspec": {
   "display_name": "Python 3",
   "language": "python",
   "name": "python3"
  },
  "language_info": {
   "codemirror_mode": {
    "name": "ipython",
    "version": 3
   },
   "file_extension": ".py",
   "mimetype": "text/x-python",
   "name": "python",
   "nbconvert_exporter": "python",
   "pygments_lexer": "ipython3",
   "version": "3.7.4"
  }
 },
 "nbformat": 4,
 "nbformat_minor": 4
}
