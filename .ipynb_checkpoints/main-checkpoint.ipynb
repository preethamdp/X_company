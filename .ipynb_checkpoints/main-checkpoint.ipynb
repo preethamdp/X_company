{
 "cells": [
  {
   "cell_type": "code",
   "execution_count": 7,
   "metadata": {},
   "outputs": [],
   "source": [
    "from selenium import webdriver\n",
    "import re\n",
    "from pandas import DataFrame\n",
    "import pickle\n",
    "from bs4 import BeautifulSoup\n",
    "from selenium.webdriver.common.keys import Keys\n",
    "import time\n",
    "from selenium.webdriver.chrome.options import Options\n",
    "from selenium.webdriver import DesiredCapabilities\n",
    "from selenium.webdriver.common.by import By\n",
    "from selenium.webdriver.support.ui import WebDriverWait\n",
    "from selenium.webdriver.support import expected_conditions as ec"
   ]
  },
  {
   "cell_type": "code",
   "execution_count": 8,
   "metadata": {},
   "outputs": [],
   "source": [
    "path = {'chrome':\"C:/Users/preetham/Downloads/drivers/chromedriver.exe\"\n",
    "        ,'opera':\"C:/Users/preetham/Downloads/drivers/operadriver.exe\"}\n",
    "url = \"https://www.justdial.com/Mysore/Textile-Manufacturers/\"\n",
    "xpaths = {}\n",
    "options = Options()\n",
    "# options.add_argument(\"--headless\") # Runs Chrome in headless mode.\n",
    "# options.add_argument('--no-sandbox') # Bypass OS security model\n",
    "# options.add_argument('--disable-gpu')  # applicable to windows os only\n",
    "# options.add_argument('start-maximized') # \n",
    "# options.add_argument('disable-infobars')\n",
    "# options.add_argument(\"--disable-extensions\")\n",
    "# capabilities = DesiredCapabilities.CHROME.copy()\n",
    "# capabilities['acceptSslCerts'] = True \n",
    "# capabilities['acceptInsecureCerts'] = True"
   ]
  },
  {
   "cell_type": "code",
   "execution_count": null,
   "metadata": {},
   "outputs": [],
   "source": [
    "# def scroll_to_bottom(driver):\n",
    "    \n",
    "#     SCROLL_PAUSE_TIME = 1\n",
    "#     # Get scroll height\n",
    "#     last_height = driver.execute_script(\"return document.body.scrollHeight\")\n",
    " \n",
    "#     while True:\n",
    "#         # Scroll down to bottom\n",
    "#         driver.execute_script(\"window.scrollTo(0, document.body.scrollHeight);\")\n",
    " \n",
    "#         # Wait to load page\n",
    "#         time.sleep(SCROLL_PAUSE_TIME)\n",
    " \n",
    "#         # Calculate new scroll height and compare with last scroll height\n",
    "#         new_height = driver.execute_script(\"return document.body.scrollHeight\")\n",
    "#         if new_height == last_height:\n",
    "#             break\n",
    "#         last_height = new_height"
   ]
  },
  {
   "cell_type": "code",
   "execution_count": null,
   "metadata": {},
   "outputs": [],
   "source": [
    "driver.get(url)"
   ]
  },
  {
   "cell_type": "code",
   "execution_count": 87,
   "metadata": {},
   "outputs": [],
   "source": [
    "body = driver.find_element_by_css_selector('body')"
   ]
  },
  {
   "cell_type": "code",
   "execution_count": 88,
   "metadata": {},
   "outputs": [],
   "source": [
    "body.send_keys(Keys.END)"
   ]
  },
  {
   "cell_type": "code",
   "execution_count": 89,
   "metadata": {},
   "outputs": [],
   "source": [
    "con_main = driver.find_element_by_xpath('//*[@id=\"tab-5\"]/ul')"
   ]
  },
  {
   "cell_type": "code",
   "execution_count": 90,
   "metadata": {},
   "outputs": [],
   "source": [
    "soup = BeautifulSoup(con_main.get_attribute(\"innerHTML\"),'lxml')\n",
    "soup = soup.findAll('li')"
   ]
  },
  {
   "cell_type": "code",
   "execution_count": 37,
   "metadata": {},
   "outputs": [],
   "source": [
    "import json\n",
    "\n",
    "with open('cities.json') as f:\n",
    "    cities = json.load(f)"
   ]
  },
  {
   "cell_type": "code",
   "execution_count": 50,
   "metadata": {},
   "outputs": [
    {
     "name": "stdout",
     "output_type": "stream",
     "text": [
      "{'id': '104', 'name': 'Mysore', 'state': 'Karnataka'}\n"
     ]
    }
   ],
   "source": [
    "for each in cities:\n",
    "    if each[\"name\"].lower() == \"mysore\":\n",
    "        print(each)\n",
    "        break"
   ]
  },
  {
   "cell_type": "code",
   "execution_count": 34,
   "metadata": {},
   "outputs": [
    {
     "name": "stdout",
     "output_type": "stream",
     "text": [
      "city: bengaluru\n"
     ]
    }
   ],
   "source": [
    "url = \"https://www.justdial.com/\"\n",
    "city = input(\"city: \")\n",
    "# keyword = input(\"keyword: \")\n",
    "# keyword = '-'.join(keyword.split())\n",
    "keyword = \"textile-manufacturer\"\n",
    "url = url+city+'/'+keyword+'/'"
   ]
  },
  {
   "cell_type": "code",
   "execution_count": 80,
   "metadata": {
    "scrolled": false
   },
   "outputs": [],
   "source": [
    "total_count = 38074\n",
    "def scraper(url,city,keyword):\n",
    "    keyword = '-'.join(keyword.split())\n",
    "    url = url+city+'/'+keyword+'/'\n",
    "    phbook = {}\n",
    "    adrbook = {}\n",
    "    tagbook = {} \n",
    "    marker = 0\n",
    "    tt = pickle.load(open('num-mapper.pkl','rb'))\n",
    "    while True:\n",
    "        if url!=None:\n",
    "            print(url)\n",
    "            if marker%2 == 0:\n",
    "                driver = webdriver.Chrome(executable_path = path['chrome'],options = options)\n",
    "            else:\n",
    "                driver = webdriver.Opera(executable_path = path['opera'],options = options)\n",
    "            driver.maximize_window()\n",
    "            driver.implicitly_wait(3)\n",
    "            marker+=1\n",
    "            driver.get(url)\n",
    "            body = driver.find_element_by_css_selector('body')\n",
    "            time.sleep(1)\n",
    "            body.send_keys(Keys.END)\n",
    "        #     scroll_to_bottom(driver)\n",
    "            time.sleep(10)\n",
    "    #         con_main = driver.find_element_by_xpath('//*[@id=\"tab-5\"]/ul')\n",
    "            soup = BeautifulSoup(body.get_attribute(\"innerHTML\"),'lxml')\n",
    "            soup = soup.findAll('li')\n",
    "            for i in range(len(soup)):\n",
    "                try:\n",
    "                    title = soup[i].h2.a['title']\n",
    "                    address = soup[i].find(\"span\",{\"class\":\"mrehover dn\"}).text\n",
    "                    address = ' '.join(address.strip().split('\\n'))\n",
    "                    tags = soup[i].find(\"span\",{\"class\":\"margin0 addrinftxt\"}).text\n",
    "                    tags = ' '.join(tags.strip().split())\n",
    "                    phno = ''\n",
    "                    for each in soup[i].find(\"p\",{\"class\":\"contact-info\"}).findAll('span')[1:]:\n",
    "                        phno+=str(tt[re.findall('(icon-[\\w]{2})',str(each))[0]])\n",
    "    #                 try: \n",
    "    #                     phbook[title] += phno+','\n",
    "    #                 except:\n",
    "    #                     phbook[title] = ''\n",
    "    #                     phbook[title] += phno+','\n",
    "                    phbook[title] = phno\n",
    "                    adrbook[title] = address\n",
    "                    tagbook[title] = tags\n",
    "                    total_count+=1\n",
    "                    if total_count%1000 == 0:\n",
    "                        print(\"total Count: \"+total_count)\n",
    "                except:\n",
    "                    pass\n",
    "            nxt = driver.find_element_by_xpath('//a[@rel=\"next\"]')\n",
    "            url = nxt.get_attribute('href')\n",
    "            driver.quit()\n",
    "            df = DataFrame({'search-city':[city]*len(phbook.keys())\n",
    "                            ,'search-key':[keyword]*len(phbook.keys())\n",
    "                            ,'company':list(phbook.keys())\n",
    "                            ,'phno':list(phbook.values())\n",
    "                            ,\"actual-address\":list(adrbook.values())\n",
    "                            ,\"actual-tags\":list(tagbook.values())})\n",
    "            df.to_csv('phbook_new.csv',mode = 'a',header=False)\n",
    "            print(\"==================running========================\")\n",
    "        else:\n",
    "            break\n",
    "    return\n",
    "    \n",
    "    "
   ]
  },
  {
   "cell_type": "code",
   "execution_count": 81,
   "metadata": {
    "scrolled": false
   },
   "outputs": [
    {
     "name": "stdout",
     "output_type": "stream",
     "text": [
      "Ahmedabad--begining\n",
      "https://www.justdial.com/Ahmedabad/textile-manufacturer/\n",
      "==================running========================\n",
      "https://www.justdial.com/Ahmedabad/Textile-Manufacturers/nct-10477448/page-2\n",
      "==================running========================\n",
      "https://www.justdial.com/Ahmedabad/Textile-Manufacturers/nct-10477448/page-3\n",
      "==================running========================\n",
      "https://www.justdial.com/Ahmedabad/Textile-Manufacturers/nct-10477448/page-4\n",
      "==================running========================\n",
      "https://www.justdial.com/Ahmedabad/Textile-Manufacturers/nct-10477448/page-5\n",
      "==================running========================\n",
      "https://www.justdial.com/Ahmedabad/Textile-Manufacturers/nct-10477448/page-6\n",
      "==================running========================\n",
      "https://www.justdial.com/Ahmedabad/Textile-Manufacturers/nct-10477448/page-7\n",
      "==================running========================\n",
      "https://www.justdial.com/Ahmedabad/Textile-Manufacturers/nct-10477448/page-8\n",
      "==================running========================\n",
      "https://www.justdial.com/Ahmedabad/Textile-Manufacturers/nct-10477448/page-9\n",
      "==================running========================\n",
      "https://www.justdial.com/Ahmedabad/Textile-Manufacturers/nct-10477448/page-10\n",
      "==================running========================\n",
      "https://www.justdial.com/Ahmedabad/Textile-Manufacturers/nct-10477448/page-11\n",
      "==================running========================\n",
      "https://www.justdial.com/Ahmedabad/Textile-Manufacturers/nct-10477448/page-12\n",
      "==================running========================\n",
      "https://www.justdial.com/Ahmedabad/Textile-Manufacturers/nct-10477448/page-13\n",
      "==================running========================\n",
      "https://www.justdial.com/Ahmedabad/Textile-Manufacturers/nct-10477448/page-14\n",
      "==================running========================\n",
      "https://www.justdial.com/Ahmedabad/Textile-Manufacturers/nct-10477448/page-15\n",
      "==================running========================\n",
      "https://www.justdial.com/Ahmedabad/Textile-Manufacturers/nct-10477448/page-16\n",
      "==================running========================\n",
      "https://www.justdial.com/Ahmedabad/Textile-Manufacturers/nct-10477448/page-17\n",
      "==================running========================\n",
      "https://www.justdial.com/Ahmedabad/Textile-Manufacturers/nct-10477448/page-18\n",
      "==================running========================\n",
      "https://www.justdial.com/Ahmedabad/Textile-Manufacturers/nct-10477448/page-19\n",
      "==================running========================\n",
      "https://www.justdial.com/Ahmedabad/Textile-Manufacturers/nct-10477448/page-20\n",
      "==================running========================\n",
      "https://www.justdial.com/Ahmedabad/Textile-Manufacturers/nct-10477448/page-21\n",
      "==================running========================\n",
      "https://www.justdial.com/Ahmedabad/Textile-Manufacturers/nct-10477448/page-22\n",
      "==================running========================\n",
      "https://www.justdial.com/Ahmedabad/Textile-Manufacturers/nct-10477448/page-23\n",
      "==================running========================\n",
      "https://www.justdial.com/Ahmedabad/Textile-Manufacturers/nct-10477448/page-24\n",
      "==================running========================\n",
      "https://www.justdial.com/Ahmedabad/Textile-Manufacturers/nct-10477448/page-25\n",
      "==================running========================\n",
      "https://www.justdial.com/Ahmedabad/Textile-Manufacturers/nct-10477448/page-26\n",
      "==================running========================\n",
      "https://www.justdial.com/Ahmedabad/Textile-Manufacturers/nct-10477448/page-27\n",
      "==================running========================\n",
      "https://www.justdial.com/Ahmedabad/Textile-Manufacturers/nct-10477448/page-28\n",
      "==================running========================\n",
      "https://www.justdial.com/Ahmedabad/Textile-Manufacturers/nct-10477448/page-29\n",
      "==================running========================\n",
      "https://www.justdial.com/Ahmedabad/Textile-Manufacturers/nct-10477448/page-30\n",
      "==================running========================\n",
      "https://www.justdial.com/Ahmedabad/Textile-Manufacturers/nct-10477448/page-31\n",
      "==================running========================\n",
      "https://www.justdial.com/Ahmedabad/Textile-Manufacturers/nct-10477448/page-32\n",
      "==================running========================\n",
      "https://www.justdial.com/Ahmedabad/Textile-Manufacturers/nct-10477448/page-33\n",
      "==================running========================\n",
      "https://www.justdial.com/Ahmedabad/Textile-Manufacturers/nct-10477448/page-34\n",
      "==================running========================\n",
      "https://www.justdial.com/Ahmedabad/Textile-Manufacturers/nct-10477448/page-35\n",
      "==================running========================\n",
      "https://www.justdial.com/Ahmedabad/Textile-Manufacturers/nct-10477448/page-36\n",
      "==================running========================\n",
      "https://www.justdial.com/Ahmedabad/Textile-Manufacturers/nct-10477448/page-37\n",
      "==================running========================\n",
      "https://www.justdial.com/Ahmedabad/Textile-Manufacturers/nct-10477448/page-38\n",
      "==================running========================\n",
      "https://www.justdial.com/Ahmedabad/Textile-Manufacturers/nct-10477448/page-39\n",
      "==================running========================\n",
      "https://www.justdial.com/Ahmedabad/Textile-Manufacturers/nct-10477448/page-40\n"
     ]
    },
    {
     "ename": "NoSuchElementException",
     "evalue": "Message: no such element: Unable to locate element: {\"method\":\"xpath\",\"selector\":\"//a[@rel=\"next\"]\"}\n  (Session info: chrome=81.0.4044.138)\n  (Driver info: operadriver=80.0.3987.100 (3f00c26d457663a424865bbef1179f72eec1b9fe-refs/branch-heads/3987@{#864}),platform=Windows NT 10.0.18362 x86_64)\n",
     "output_type": "error",
     "traceback": [
      "\u001b[1;31m---------------------------------------------------------------------------\u001b[0m",
      "\u001b[1;31mNoSuchElementException\u001b[0m                    Traceback (most recent call last)",
      "\u001b[1;32m<ipython-input-81-6d0df24fc5e1>\u001b[0m in \u001b[0;36m<module>\u001b[1;34m\u001b[0m\n\u001b[0;32m      2\u001b[0m     \u001b[1;32mif\u001b[0m \u001b[0meach\u001b[0m\u001b[1;33m[\u001b[0m\u001b[1;34m\"name\"\u001b[0m\u001b[1;33m]\u001b[0m \u001b[1;32mnot\u001b[0m \u001b[1;32min\u001b[0m \u001b[0mdone\u001b[0m\u001b[1;33m:\u001b[0m\u001b[1;33m\u001b[0m\u001b[1;33m\u001b[0m\u001b[0m\n\u001b[0;32m      3\u001b[0m         \u001b[0mprint\u001b[0m\u001b[1;33m(\u001b[0m\u001b[0meach\u001b[0m\u001b[1;33m[\u001b[0m\u001b[1;34m\"name\"\u001b[0m\u001b[1;33m]\u001b[0m\u001b[1;33m+\u001b[0m\u001b[1;34m'--begining'\u001b[0m\u001b[1;33m)\u001b[0m\u001b[1;33m\u001b[0m\u001b[1;33m\u001b[0m\u001b[0m\n\u001b[1;32m----> 4\u001b[1;33m         \u001b[0mscraper\u001b[0m\u001b[1;33m(\u001b[0m\u001b[1;34m\"https://www.justdial.com/\"\u001b[0m\u001b[1;33m,\u001b[0m\u001b[0meach\u001b[0m\u001b[1;33m[\u001b[0m\u001b[1;34m\"name\"\u001b[0m\u001b[1;33m]\u001b[0m\u001b[1;33m,\u001b[0m\u001b[1;34m\"textile manufacturer\"\u001b[0m\u001b[1;33m)\u001b[0m\u001b[1;33m\u001b[0m\u001b[1;33m\u001b[0m\u001b[0m\n\u001b[0m\u001b[0;32m      5\u001b[0m         \u001b[0mdone\u001b[0m\u001b[1;33m.\u001b[0m\u001b[0mappend\u001b[0m\u001b[1;33m(\u001b[0m\u001b[0meach\u001b[0m\u001b[1;33m[\u001b[0m\u001b[1;34m\"name\"\u001b[0m\u001b[1;33m]\u001b[0m\u001b[1;33m)\u001b[0m\u001b[1;33m\u001b[0m\u001b[1;33m\u001b[0m\u001b[0m\n\u001b[0;32m      6\u001b[0m         \u001b[0mprint\u001b[0m\u001b[1;33m(\u001b[0m\u001b[0meach\u001b[0m\u001b[1;33m[\u001b[0m\u001b[1;34m\"name\"\u001b[0m\u001b[1;33m]\u001b[0m\u001b[1;33m+\u001b[0m\u001b[1;34m\"--ending\"\u001b[0m\u001b[1;33m)\u001b[0m\u001b[1;33m\u001b[0m\u001b[1;33m\u001b[0m\u001b[0m\n",
      "\u001b[1;32m<ipython-input-80-6c9a19e6e24f>\u001b[0m in \u001b[0;36mscraper\u001b[1;34m(url, city, keyword)\u001b[0m\n\u001b[0;32m     50\u001b[0m                 \u001b[1;32mexcept\u001b[0m\u001b[1;33m:\u001b[0m\u001b[1;33m\u001b[0m\u001b[1;33m\u001b[0m\u001b[0m\n\u001b[0;32m     51\u001b[0m                     \u001b[1;32mpass\u001b[0m\u001b[1;33m\u001b[0m\u001b[1;33m\u001b[0m\u001b[0m\n\u001b[1;32m---> 52\u001b[1;33m             \u001b[0mnxt\u001b[0m \u001b[1;33m=\u001b[0m \u001b[0mdriver\u001b[0m\u001b[1;33m.\u001b[0m\u001b[0mfind_element_by_xpath\u001b[0m\u001b[1;33m(\u001b[0m\u001b[1;34m'//a[@rel=\"next\"]'\u001b[0m\u001b[1;33m)\u001b[0m\u001b[1;33m\u001b[0m\u001b[1;33m\u001b[0m\u001b[0m\n\u001b[0m\u001b[0;32m     53\u001b[0m             \u001b[0murl\u001b[0m \u001b[1;33m=\u001b[0m \u001b[0mnxt\u001b[0m\u001b[1;33m.\u001b[0m\u001b[0mget_attribute\u001b[0m\u001b[1;33m(\u001b[0m\u001b[1;34m'href'\u001b[0m\u001b[1;33m)\u001b[0m\u001b[1;33m\u001b[0m\u001b[1;33m\u001b[0m\u001b[0m\n\u001b[0;32m     54\u001b[0m             \u001b[0mdriver\u001b[0m\u001b[1;33m.\u001b[0m\u001b[0mquit\u001b[0m\u001b[1;33m(\u001b[0m\u001b[1;33m)\u001b[0m\u001b[1;33m\u001b[0m\u001b[1;33m\u001b[0m\u001b[0m\n",
      "\u001b[1;32m~\\AppData\\Local\\Continuum\\anaconda3\\envs\\machine_learning\\lib\\site-packages\\selenium\\webdriver\\remote\\webdriver.py\u001b[0m in \u001b[0;36mfind_element_by_xpath\u001b[1;34m(self, xpath)\u001b[0m\n\u001b[0;32m    392\u001b[0m             \u001b[0melement\u001b[0m \u001b[1;33m=\u001b[0m \u001b[0mdriver\u001b[0m\u001b[1;33m.\u001b[0m\u001b[0mfind_element_by_xpath\u001b[0m\u001b[1;33m(\u001b[0m\u001b[1;34m'//div/td[1]'\u001b[0m\u001b[1;33m)\u001b[0m\u001b[1;33m\u001b[0m\u001b[1;33m\u001b[0m\u001b[0m\n\u001b[0;32m    393\u001b[0m         \"\"\"\n\u001b[1;32m--> 394\u001b[1;33m         \u001b[1;32mreturn\u001b[0m \u001b[0mself\u001b[0m\u001b[1;33m.\u001b[0m\u001b[0mfind_element\u001b[0m\u001b[1;33m(\u001b[0m\u001b[0mby\u001b[0m\u001b[1;33m=\u001b[0m\u001b[0mBy\u001b[0m\u001b[1;33m.\u001b[0m\u001b[0mXPATH\u001b[0m\u001b[1;33m,\u001b[0m \u001b[0mvalue\u001b[0m\u001b[1;33m=\u001b[0m\u001b[0mxpath\u001b[0m\u001b[1;33m)\u001b[0m\u001b[1;33m\u001b[0m\u001b[1;33m\u001b[0m\u001b[0m\n\u001b[0m\u001b[0;32m    395\u001b[0m \u001b[1;33m\u001b[0m\u001b[0m\n\u001b[0;32m    396\u001b[0m     \u001b[1;32mdef\u001b[0m \u001b[0mfind_elements_by_xpath\u001b[0m\u001b[1;33m(\u001b[0m\u001b[0mself\u001b[0m\u001b[1;33m,\u001b[0m \u001b[0mxpath\u001b[0m\u001b[1;33m)\u001b[0m\u001b[1;33m:\u001b[0m\u001b[1;33m\u001b[0m\u001b[1;33m\u001b[0m\u001b[0m\n",
      "\u001b[1;32m~\\AppData\\Local\\Continuum\\anaconda3\\envs\\machine_learning\\lib\\site-packages\\selenium\\webdriver\\remote\\webdriver.py\u001b[0m in \u001b[0;36mfind_element\u001b[1;34m(self, by, value)\u001b[0m\n\u001b[0;32m    976\u001b[0m         return self.execute(Command.FIND_ELEMENT, {\n\u001b[0;32m    977\u001b[0m             \u001b[1;34m'using'\u001b[0m\u001b[1;33m:\u001b[0m \u001b[0mby\u001b[0m\u001b[1;33m,\u001b[0m\u001b[1;33m\u001b[0m\u001b[1;33m\u001b[0m\u001b[0m\n\u001b[1;32m--> 978\u001b[1;33m             'value': value})['value']\n\u001b[0m\u001b[0;32m    979\u001b[0m \u001b[1;33m\u001b[0m\u001b[0m\n\u001b[0;32m    980\u001b[0m     \u001b[1;32mdef\u001b[0m \u001b[0mfind_elements\u001b[0m\u001b[1;33m(\u001b[0m\u001b[0mself\u001b[0m\u001b[1;33m,\u001b[0m \u001b[0mby\u001b[0m\u001b[1;33m=\u001b[0m\u001b[0mBy\u001b[0m\u001b[1;33m.\u001b[0m\u001b[0mID\u001b[0m\u001b[1;33m,\u001b[0m \u001b[0mvalue\u001b[0m\u001b[1;33m=\u001b[0m\u001b[1;32mNone\u001b[0m\u001b[1;33m)\u001b[0m\u001b[1;33m:\u001b[0m\u001b[1;33m\u001b[0m\u001b[1;33m\u001b[0m\u001b[0m\n",
      "\u001b[1;32m~\\AppData\\Local\\Continuum\\anaconda3\\envs\\machine_learning\\lib\\site-packages\\selenium\\webdriver\\remote\\webdriver.py\u001b[0m in \u001b[0;36mexecute\u001b[1;34m(self, driver_command, params)\u001b[0m\n\u001b[0;32m    319\u001b[0m         \u001b[0mresponse\u001b[0m \u001b[1;33m=\u001b[0m \u001b[0mself\u001b[0m\u001b[1;33m.\u001b[0m\u001b[0mcommand_executor\u001b[0m\u001b[1;33m.\u001b[0m\u001b[0mexecute\u001b[0m\u001b[1;33m(\u001b[0m\u001b[0mdriver_command\u001b[0m\u001b[1;33m,\u001b[0m \u001b[0mparams\u001b[0m\u001b[1;33m)\u001b[0m\u001b[1;33m\u001b[0m\u001b[1;33m\u001b[0m\u001b[0m\n\u001b[0;32m    320\u001b[0m         \u001b[1;32mif\u001b[0m \u001b[0mresponse\u001b[0m\u001b[1;33m:\u001b[0m\u001b[1;33m\u001b[0m\u001b[1;33m\u001b[0m\u001b[0m\n\u001b[1;32m--> 321\u001b[1;33m             \u001b[0mself\u001b[0m\u001b[1;33m.\u001b[0m\u001b[0merror_handler\u001b[0m\u001b[1;33m.\u001b[0m\u001b[0mcheck_response\u001b[0m\u001b[1;33m(\u001b[0m\u001b[0mresponse\u001b[0m\u001b[1;33m)\u001b[0m\u001b[1;33m\u001b[0m\u001b[1;33m\u001b[0m\u001b[0m\n\u001b[0m\u001b[0;32m    322\u001b[0m             response['value'] = self._unwrap_value(\n\u001b[0;32m    323\u001b[0m                 response.get('value', None))\n",
      "\u001b[1;32m~\\AppData\\Local\\Continuum\\anaconda3\\envs\\machine_learning\\lib\\site-packages\\selenium\\webdriver\\remote\\errorhandler.py\u001b[0m in \u001b[0;36mcheck_response\u001b[1;34m(self, response)\u001b[0m\n\u001b[0;32m    240\u001b[0m                 \u001b[0malert_text\u001b[0m \u001b[1;33m=\u001b[0m \u001b[0mvalue\u001b[0m\u001b[1;33m[\u001b[0m\u001b[1;34m'alert'\u001b[0m\u001b[1;33m]\u001b[0m\u001b[1;33m.\u001b[0m\u001b[0mget\u001b[0m\u001b[1;33m(\u001b[0m\u001b[1;34m'text'\u001b[0m\u001b[1;33m)\u001b[0m\u001b[1;33m\u001b[0m\u001b[1;33m\u001b[0m\u001b[0m\n\u001b[0;32m    241\u001b[0m             \u001b[1;32mraise\u001b[0m \u001b[0mexception_class\u001b[0m\u001b[1;33m(\u001b[0m\u001b[0mmessage\u001b[0m\u001b[1;33m,\u001b[0m \u001b[0mscreen\u001b[0m\u001b[1;33m,\u001b[0m \u001b[0mstacktrace\u001b[0m\u001b[1;33m,\u001b[0m \u001b[0malert_text\u001b[0m\u001b[1;33m)\u001b[0m\u001b[1;33m\u001b[0m\u001b[1;33m\u001b[0m\u001b[0m\n\u001b[1;32m--> 242\u001b[1;33m         \u001b[1;32mraise\u001b[0m \u001b[0mexception_class\u001b[0m\u001b[1;33m(\u001b[0m\u001b[0mmessage\u001b[0m\u001b[1;33m,\u001b[0m \u001b[0mscreen\u001b[0m\u001b[1;33m,\u001b[0m \u001b[0mstacktrace\u001b[0m\u001b[1;33m)\u001b[0m\u001b[1;33m\u001b[0m\u001b[1;33m\u001b[0m\u001b[0m\n\u001b[0m\u001b[0;32m    243\u001b[0m \u001b[1;33m\u001b[0m\u001b[0m\n\u001b[0;32m    244\u001b[0m     \u001b[1;32mdef\u001b[0m \u001b[0m_value_or_default\u001b[0m\u001b[1;33m(\u001b[0m\u001b[0mself\u001b[0m\u001b[1;33m,\u001b[0m \u001b[0mobj\u001b[0m\u001b[1;33m,\u001b[0m \u001b[0mkey\u001b[0m\u001b[1;33m,\u001b[0m \u001b[0mdefault\u001b[0m\u001b[1;33m)\u001b[0m\u001b[1;33m:\u001b[0m\u001b[1;33m\u001b[0m\u001b[1;33m\u001b[0m\u001b[0m\n",
      "\u001b[1;31mNoSuchElementException\u001b[0m: Message: no such element: Unable to locate element: {\"method\":\"xpath\",\"selector\":\"//a[@rel=\"next\"]\"}\n  (Session info: chrome=81.0.4044.138)\n  (Driver info: operadriver=80.0.3987.100 (3f00c26d457663a424865bbef1179f72eec1b9fe-refs/branch-heads/3987@{#864}),platform=Windows NT 10.0.18362 x86_64)\n"
     ]
    }
   ],
   "source": [
    "for each in cities[:10]:\n",
    "    if each[\"name\"] not in done:\n",
    "        print(each[\"name\"]+'--begining')\n",
    "        scraper(\"https://www.justdial.com/\",each[\"name\"],\"textile manufacturer\")\n",
    "        done.append(each[\"name\"])\n",
    "        print(each[\"name\"]+\"--ending\")"
   ]
  },
  {
   "cell_type": "code",
   "execution_count": 83,
   "metadata": {},
   "outputs": [],
   "source": [
    "pickle.dump(done,open(\"done.pickle\",\"wb\"))"
   ]
  },
  {
   "cell_type": "code",
   "execution_count": null,
   "metadata": {},
   "outputs": [],
   "source": [
    "backup_url = https://www.justdial.com/Ahmedabad/Textile-Manufacturers/nct-10477448/page-40"
   ]
  },
  {
   "cell_type": "code",
   "execution_count": 16,
   "metadata": {},
   "outputs": [
    {
     "name": "stdout",
     "output_type": "stream",
     "text": [
      "ka\n"
     ]
    }
   ],
   "source": [
    "if re.search('des',html):\n",
    "    print(\"ka\")"
   ]
  },
  {
   "cell_type": "code",
   "execution_count": 86,
   "metadata": {},
   "outputs": [],
   "source": [
    "DataFrame({'company':list(phbook.keys()),'phno':list(phbook.values())}).to_csv('demo.csv')"
   ]
  },
  {
   "cell_type": "code",
   "execution_count": 14,
   "metadata": {},
   "outputs": [],
   "source": [
    "from pandas import read_csv"
   ]
  },
  {
   "cell_type": "code",
   "execution_count": 15,
   "metadata": {},
   "outputs": [],
   "source": [
    "k = read_csv('phbook.csv')"
   ]
  },
  {
   "cell_type": "code",
   "execution_count": 17,
   "metadata": {},
   "outputs": [],
   "source": [
    "k = k[['city','company','phno']]"
   ]
  },
  {
   "cell_type": "code",
   "execution_count": 19,
   "metadata": {},
   "outputs": [],
   "source": [
    "k['search-key'] = None"
   ]
  },
  {
   "cell_type": "code",
   "execution_count": 20,
   "metadata": {},
   "outputs": [
    {
     "data": {
      "text/html": [
       "<div>\n",
       "<style scoped>\n",
       "    .dataframe tbody tr th:only-of-type {\n",
       "        vertical-align: middle;\n",
       "    }\n",
       "\n",
       "    .dataframe tbody tr th {\n",
       "        vertical-align: top;\n",
       "    }\n",
       "\n",
       "    .dataframe thead th {\n",
       "        text-align: right;\n",
       "    }\n",
       "</style>\n",
       "<table border=\"1\" class=\"dataframe\">\n",
       "  <thead>\n",
       "    <tr style=\"text-align: right;\">\n",
       "      <th></th>\n",
       "      <th>city</th>\n",
       "      <th>company</th>\n",
       "      <th>phno</th>\n",
       "      <th>search-key</th>\n",
       "    </tr>\n",
       "  </thead>\n",
       "  <tbody>\n",
       "    <tr>\n",
       "      <th>0</th>\n",
       "      <td>mysore</td>\n",
       "      <td>Morarjee Textiles Ltd</td>\n",
       "      <td>+(91)-07103-281100,</td>\n",
       "      <td>None</td>\n",
       "    </tr>\n",
       "    <tr>\n",
       "      <th>1</th>\n",
       "      <td>mysore</td>\n",
       "      <td>V K T K Textiles</td>\n",
       "      <td>+(91)-44-27224150,</td>\n",
       "      <td>None</td>\n",
       "    </tr>\n",
       "    <tr>\n",
       "      <th>2</th>\n",
       "      <td>mysore</td>\n",
       "      <td>Rajasthan Textile Mills</td>\n",
       "      <td>+(91)-7432-222052,</td>\n",
       "      <td>None</td>\n",
       "    </tr>\n",
       "    <tr>\n",
       "      <th>3</th>\n",
       "      <td>mysore</td>\n",
       "      <td>Lakshmi Mills Company Ltd</td>\n",
       "      <td>+(91)-422-2245461,</td>\n",
       "      <td>None</td>\n",
       "    </tr>\n",
       "    <tr>\n",
       "      <th>4</th>\n",
       "      <td>mysore</td>\n",
       "      <td>Parameswari Textiles</td>\n",
       "      <td>+(91)-4324-221969,</td>\n",
       "      <td>None</td>\n",
       "    </tr>\n",
       "  </tbody>\n",
       "</table>\n",
       "</div>"
      ],
      "text/plain": [
       "     city                    company                 phno search-key\n",
       "0  mysore      Morarjee Textiles Ltd  +(91)-07103-281100,       None\n",
       "1  mysore           V K T K Textiles   +(91)-44-27224150,       None\n",
       "2  mysore    Rajasthan Textile Mills   +(91)-7432-222052,       None\n",
       "3  mysore  Lakshmi Mills Company Ltd   +(91)-422-2245461,       None\n",
       "4  mysore       Parameswari Textiles   +(91)-4324-221969,       None"
      ]
     },
     "execution_count": 20,
     "metadata": {},
     "output_type": "execute_result"
    }
   ],
   "source": [
    "k.head()"
   ]
  },
  {
   "cell_type": "code",
   "execution_count": null,
   "metadata": {},
   "outputs": [],
   "source": []
  }
 ],
 "metadata": {
  "kernelspec": {
   "display_name": "Python 3",
   "language": "python",
   "name": "python3"
  },
  "language_info": {
   "codemirror_mode": {
    "name": "ipython",
    "version": 3
   },
   "file_extension": ".py",
   "mimetype": "text/x-python",
   "name": "python",
   "nbconvert_exporter": "python",
   "pygments_lexer": "ipython3",
   "version": "3.7.3"
  }
 },
 "nbformat": 4,
 "nbformat_minor": 2
}
