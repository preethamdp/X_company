{
 "cells": [
  {
   "cell_type": "code",
   "execution_count": 8,
   "metadata": {},
   "outputs": [],
   "source": [
    "from selenium import webdriver \n",
    "from selenium.webdriver.support.ui import WebDriverWait \n",
    "from selenium.webdriver.support import expected_conditions as EC \n",
    "from selenium.webdriver.common.keys import Keys \n",
    "from selenium.webdriver.common.by import By \n",
    "from selenium.webdriver.common.action_chains import ActionChains\n",
    "from pandas import read_csv\n",
    "import pickle\n",
    "\n",
    "import time \n",
    "import _thread\n"
   ]
  },
  {
   "cell_type": "code",
   "execution_count": 49,
   "metadata": {},
   "outputs": [],
   "source": [
    "# Replace below path with the absolute path \n",
    "# to chromedriver in your computer \n",
    " \n",
    "\n",
    "def sender(phno,msg,driver):\n",
    "    INPUT_XPATH = '//*[@id=\"main\"]/footer/div[1]/div[2]/div/div[2]'\n",
    "    url = 'https://web.whatsapp.com/send?phone=+91' + str(phno)\n",
    "    driver.get(url) \n",
    "    time.sleep(2)\n",
    "    try:\n",
    "        ok_btn_xpath = '//*[@id=\"app\"]/div/span[2]/div/span/div/div/div/div/div/div[2]/div'\n",
    "        ok_btn = WebDriverWait(driver,50).until(lambda driver: driver.find_element_by_xpath(ok_btn_xpath))\n",
    "        ok_btn.click()\n",
    "        time.sleep(1)\n",
    "        return \"number don't exist\"\n",
    "    except:\n",
    "        input_box = WebDriverWait(driver,50).until(lambda driver: driver.find_element_by_xpath(INPUT_XPATH))\n",
    "        input_box.click()\n",
    "        for each in msg.split('\\n'):\n",
    "            input_box.send_keys(each.strip())\n",
    "            ActionChains(driver).key_down(Keys.SHIFT).key_down(Keys.ENTER).key_up(Keys.ENTER).key_up(Keys.SHIFT).perform()\n",
    "        input_box.send_keys(Keys.ENTER)\n",
    "        time.sleep(1)\n",
    "        count = pickle.load(open(\"send-confirmed.pkl\",\"rb\"))\n",
    "        count += 1\n",
    "        pickle.dump(count,open(\"send-confirmed.pkl\",'wb'))\n",
    "        return \"msg sent successfully\"\n",
    "    \n",
    "    \n",
    "def login():\n",
    "    main_computer = \"C:/Users/home/Downloads/drivers/chromedriver\"\n",
    "    laptop = \"C:/Users/preetham/Downloads/drivers/chromedriver\"\n",
    "    driver = webdriver.Chrome(main_computer)\n",
    "    driver.get('https://web.whatsapp.com')\n",
    "    time.sleep(20)\n",
    "    return driver\n",
    "#     if input(\"are you logged in bruh!!!!???\") == \"y\":\n",
    "#         return driver\n",
    "#     else:\n",
    "#         print(\"are you good bruh!!!!???\")\n",
    "#         return None\n",
    "    "
   ]
  },
  {
   "cell_type": "code",
   "execution_count": 52,
   "metadata": {},
   "outputs": [],
   "source": [
    "def send(d,msg):\n",
    "    custom_txt = d['company']\n",
    "    phnum = d['clean_phno']\n",
    "    text = '''Dear \\n'''+custom_txt+\"\\n\"+ msg\n",
    "    try:\n",
    "            driver = login()\n",
    "            print(\"duh\")\n",
    "    except:\n",
    "        print(\"check webdriver location bruh!!\")\n",
    "        print(\"Something wrong while logging in!!!\")\n",
    "    cnt = 0\n",
    "    for each in phnum:\n",
    "        try:\n",
    "            print(sender(each,text,driver))\n",
    "            count = pickle.load(open(\"send-confirmed.pkl\",\"rb\"))\n",
    "            print(\"messsage sent to -->\",each)\n",
    "            cnt+=1\n",
    "            if cnt%10 ==0:\n",
    "                print(\"local count==>\",cnt)\n",
    "            if count%50 == 0:\n",
    "                print(\"Total messages sent -->\",count )\n",
    "        except:\n",
    "            print(\"something wrong while sending!!!\")"
   ]
  },
  {
   "cell_type": "code",
   "execution_count": 14,
   "metadata": {},
   "outputs": [],
   "source": [
    "def read_data(filename):\n",
    "    df = read_csv(filename)\n",
    "    return df"
   ]
  },
  {
   "cell_type": "code",
   "execution_count": 15,
   "metadata": {},
   "outputs": [],
   "source": [
    "def find_textbox(driver,tries = 0):\n",
    "    if tries<5:\n",
    "        try:\n",
    "            inp = driver.find_element_by_xpath('//*[@id=\"main\"]/footer/div[1]/div[2]/div/div[2]')\n",
    "            return inp\n",
    "        except:\n",
    "            print(\"trying again bruh!!!!\")\n",
    "            time.sleep(5)\n",
    "            tries +=1\n",
    "            find_textbox(driver,tries)\n",
    "    "
   ]
  },
  {
   "cell_type": "code",
   "execution_count": 53,
   "metadata": {},
   "outputs": [],
   "source": [
    "def thread_starter(thread_data,msg):\n",
    "    for each in thread_data:\n",
    "        _thread.start_new_thread(send,(each,msg,))"
   ]
  },
  {
   "cell_type": "code",
   "execution_count": 54,
   "metadata": {},
   "outputs": [
    {
     "name": "stdout",
     "output_type": "stream",
     "text": [
      "duh\n",
      "number don't exist\n",
      "messsage sent to --> 9152340556\n",
      "msg sent successfully\n",
      "messsage sent to --> 9324790610\n"
     ]
    }
   ],
   "source": [
    "msg = '''\n",
    "Hi,\n",
    "\n",
    "CONTACT us for textile industry requirements and Services at best rate in market across india.\n",
    "\n",
    "Ph - 7259672020\n",
    "\n",
    "Website - https://master-enterprise.herokuapp.com/home\n",
    "\n",
    "\n",
    "We are from Master Enterprises, We provide materials for textiles at lower cost with Best Quality.\n",
    "Below are our products,\n",
    "\n",
    "\n",
    "1. Fusing Machine Feed On Conveyor Attachment\n",
    "2. Teflon Belt,Fusing Machine Needle Detector Belts\n",
    "3. Fusing Machine Rivet Belts\n",
    "4. Teflon Fabric Conveyor Belt\n",
    "5. Fusing MC Belt Cleaning Powder,FF 250, FF 450, FF 600, FF 900 Fusing Machines\n",
    "6. Non Contact Digital Thermometer\n",
    "7. Leno PTFE 4/4 Mesh Fabric Conveyor Belt\n",
    "8. Fusing Machine Conveyor Belts\n",
    "9. Food Grade 2Ply Belts\n",
    "10. Kevlar Belts\n",
    "11. Bond Strength Digital Meter\n",
    "12. Fusing Machine Silicone Rollers\n",
    "13. Fusing Machine Limit Switches, Micro Switches\n",
    "14. MULTIFUNCTIONAL DISINFECTION BOX\n",
    "15. Gear Motor\n",
    "16. Thermo Couple\n",
    "\n",
    "(For Digital marketing - Please contact - ZINC DIGITAL MARKETING http://zincdigitalindia.herokuapp.com/ )\n",
    "\n",
    "'''\n",
    "if __name__ == \"__main__\":\n",
    "    thread_starter([df[:2]],msg)"
   ]
  },
  {
   "cell_type": "code",
   "execution_count": 18,
   "metadata": {},
   "outputs": [
    {
     "name": "stdout",
     "output_type": "stream",
     "text": [
      "duh\n",
      "something wrong while sending!!!\n",
      "something wrong while sending!!!\n"
     ]
    }
   ],
   "source": [
    "df = read_data(\"cleanedphbbok_08-05-2020_21-52-29.csv\")\n",
    "send(df[:2])"
   ]
  },
  {
   "cell_type": "code",
   "execution_count": 23,
   "metadata": {},
   "outputs": [
    {
     "data": {
      "text/html": [
       "<div>\n",
       "<style scoped>\n",
       "    .dataframe tbody tr th:only-of-type {\n",
       "        vertical-align: middle;\n",
       "    }\n",
       "\n",
       "    .dataframe tbody tr th {\n",
       "        vertical-align: top;\n",
       "    }\n",
       "\n",
       "    .dataframe thead th {\n",
       "        text-align: right;\n",
       "    }\n",
       "</style>\n",
       "<table border=\"1\" class=\"dataframe\">\n",
       "  <thead>\n",
       "    <tr style=\"text-align: right;\">\n",
       "      <th></th>\n",
       "      <th>Unnamed: 0</th>\n",
       "      <th>company</th>\n",
       "      <th>clean_phno</th>\n",
       "    </tr>\n",
       "  </thead>\n",
       "  <tbody>\n",
       "    <tr>\n",
       "      <td>0</td>\n",
       "      <td>0</td>\n",
       "      <td>King Blazer Creation in Ghatkopar West, Mumbai</td>\n",
       "      <td>9152340556</td>\n",
       "    </tr>\n",
       "    <tr>\n",
       "      <td>1</td>\n",
       "      <td>1</td>\n",
       "      <td>Embi Creations in Dombivli East, Mumbai</td>\n",
       "      <td>9324790610</td>\n",
       "    </tr>\n",
       "    <tr>\n",
       "      <td>2</td>\n",
       "      <td>2</td>\n",
       "      <td>SRK Garments in Malad West, Mumbai</td>\n",
       "      <td>9152122477</td>\n",
       "    </tr>\n",
       "    <tr>\n",
       "      <td>3</td>\n",
       "      <td>3</td>\n",
       "      <td>Eden Rose in Malad West, Mumbai</td>\n",
       "      <td>9152430823</td>\n",
       "    </tr>\n",
       "    <tr>\n",
       "      <td>4</td>\n",
       "      <td>4</td>\n",
       "      <td>A S Garments in Bandra West, Mumbai</td>\n",
       "      <td>9152888624</td>\n",
       "    </tr>\n",
       "  </tbody>\n",
       "</table>\n",
       "</div>"
      ],
      "text/plain": [
       "   Unnamed: 0                                         company  clean_phno\n",
       "0           0  King Blazer Creation in Ghatkopar West, Mumbai  9152340556\n",
       "1           1         Embi Creations in Dombivli East, Mumbai  9324790610\n",
       "2           2              SRK Garments in Malad West, Mumbai  9152122477\n",
       "3           3                 Eden Rose in Malad West, Mumbai  9152430823\n",
       "4           4             A S Garments in Bandra West, Mumbai  9152888624"
      ]
     },
     "execution_count": 23,
     "metadata": {},
     "output_type": "execute_result"
    }
   ],
   "source": [
    "df.head()"
   ]
  },
  {
   "cell_type": "code",
   "execution_count": null,
   "metadata": {},
   "outputs": [],
   "source": []
  },
  {
   "cell_type": "code",
   "execution_count": 26,
   "metadata": {},
   "outputs": [
    {
     "name": "stdout",
     "output_type": "stream",
     "text": [
      "duh\n"
     ]
    }
   ],
   "source": [
    "driver = login()\n",
    "print(\"duh\")"
   ]
  },
  {
   "cell_type": "code",
   "execution_count": 27,
   "metadata": {},
   "outputs": [],
   "source": [
    "phno = 7338336407\n",
    "msg = \"anthamma\"\n",
    "url = 'https://web.whatsapp.com/send?phone=+91' + str(phno)\n",
    "driver.get(url)"
   ]
  },
  {
   "cell_type": "code",
   "execution_count": 28,
   "metadata": {},
   "outputs": [],
   "source": [
    "inputbox_xpath = '//*[@id=\"main\"]/footer/div[1]/div[2]/div/div[2]'\n",
    "input_box_search = WebDriverWait(driver,50).until(lambda driver: driver.find_element_by_xpath(inputbox_xpath))\n",
    "input_box_search.click()"
   ]
  },
  {
   "cell_type": "code",
   "execution_count": 29,
   "metadata": {},
   "outputs": [
    {
     "ename": "NameError",
     "evalue": "name 'inp' is not defined",
     "output_type": "error",
     "traceback": [
      "\u001b[1;31m---------------------------------------------------------------------------\u001b[0m",
      "\u001b[1;31mNameError\u001b[0m                                 Traceback (most recent call last)",
      "\u001b[1;32m<ipython-input-29-f22f92f2bb99>\u001b[0m in \u001b[0;36m<module>\u001b[1;34m\u001b[0m\n\u001b[1;32m----> 1\u001b[1;33m \u001b[0minp\u001b[0m\u001b[1;33m.\u001b[0m\u001b[0mclick\u001b[0m\u001b[1;33m(\u001b[0m\u001b[1;33m)\u001b[0m\u001b[1;33m\u001b[0m\u001b[1;33m\u001b[0m\u001b[0m\n\u001b[0m",
      "\u001b[1;31mNameError\u001b[0m: name 'inp' is not defined"
     ]
    }
   ],
   "source": [
    "inp.click()"
   ]
  },
  {
   "cell_type": "code",
   "execution_count": 32,
   "metadata": {},
   "outputs": [],
   "source": [
    "input_box_search.send_keys(\"test\")"
   ]
  },
  {
   "cell_type": "code",
   "execution_count": 33,
   "metadata": {},
   "outputs": [],
   "source": [
    "input_box_search.send_keys(Keys.ENTER)"
   ]
  },
  {
   "cell_type": "code",
   "execution_count": 32,
   "metadata": {},
   "outputs": [],
   "source": [
    "keyboard.press_and_release(\"e\")"
   ]
  },
  {
   "cell_type": "code",
   "execution_count": 2,
   "metadata": {},
   "outputs": [],
   "source": [
    "\n",
    "import pickle\n",
    "count = 0\n",
    "pickle.dump(count,open(\"send-confirmed.pkl\",'wb'))"
   ]
  },
  {
   "cell_type": "code",
   "execution_count": 3,
   "metadata": {},
   "outputs": [
    {
     "data": {
      "text/plain": [
       "0"
      ]
     },
     "execution_count": 3,
     "metadata": {},
     "output_type": "execute_result"
    }
   ],
   "source": [
    "pickle.load(open(\"send-confirmed.pkl\",\"rb\"))"
   ]
  },
  {
   "cell_type": "code",
   "execution_count": null,
   "metadata": {},
   "outputs": [],
   "source": [
    "//*[@id=\"app\"]/div/span[2]/div/span/div/div/div/div/div/div[2]/div\n"
   ]
  }
 ],
 "metadata": {
  "kernelspec": {
   "display_name": "Python 3",
   "language": "python",
   "name": "python3"
  },
  "language_info": {
   "codemirror_mode": {
    "name": "ipython",
    "version": 3
   },
   "file_extension": ".py",
   "mimetype": "text/x-python",
   "name": "python",
   "nbconvert_exporter": "python",
   "pygments_lexer": "ipython3",
   "version": "3.7.4"
  }
 },
 "nbformat": 4,
 "nbformat_minor": 4
}
